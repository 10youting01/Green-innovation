{
 "cells": [
  {
   "cell_type": "code",
   "execution_count": 1,
   "id": "d6022063",
   "metadata": {},
   "outputs": [],
   "source": [
    "import pandas as pd\n",
    "import numpy as np\n",
    "from scipy import sparse\n",
    "from sklearn.svm import SVR\n",
    "from sklearn.ensemble import RandomForestRegressor\n",
    "from sklearn.tree import DecisionTreeRegressor\n",
    "from xgboost import XGBRegressor\n",
    "from sklearn.model_selection import train_test_split\n",
    "from sklearn.metrics import mean_squared_error\n",
    "import joblib"
   ]
  },
  {
   "cell_type": "markdown",
   "id": "b030d377",
   "metadata": {},
   "source": [
    "## Model setup"
   ]
  },
  {
   "cell_type": "code",
   "execution_count": 2,
   "id": "a6cd886f",
   "metadata": {},
   "outputs": [],
   "source": [
    "def train_and_evaluate_models(X, y, target_name):\n",
    "    print(f\"\\n===== Training models for: {target_name} =====\")\n",
    "\n",
    "    # 切分資料集\n",
    "    X_train, X_val, y_train, y_val = train_test_split(X, y, test_size=0.2, random_state=42)\n",
    "\n",
    "    models = {\n",
    "        \"SVR\": SVR(),\n",
    "        \"RandomForest\": RandomForestRegressor(random_state=42),\n",
    "        \"DecisionTree\": DecisionTreeRegressor(random_state=42),\n",
    "        \"XGBoost\": XGBRegressor(random_state=42)\n",
    "    }\n",
    "\n",
    "    results = []\n",
    "\n",
    "    for name, model in models.items():\n",
    "        model.fit(X_train, y_train)\n",
    "        y_pred = model.predict(X_val)\n",
    "        mse = mean_squared_error(y_val, y_pred)\n",
    "        results.append({\n",
    "            \"model\": name,\n",
    "            \"target\": target_name,\n",
    "            \"MSE\": mse\n",
    "        })\n",
    "        print(f\"{name} - MSE: {mse:.4f}\")\n",
    "\n",
    "    return results"
   ]
  },
  {
   "cell_type": "markdown",
   "id": "115e6a3a",
   "metadata": {},
   "source": [
    "## Load data"
   ]
  },
  {
   "cell_type": "code",
   "execution_count": 5,
   "id": "59b448c3",
   "metadata": {},
   "outputs": [
    {
     "name": "stdout",
     "output_type": "stream",
     "text": [
      "\n",
      "===== Training models for: count_k1000 =====\n",
      "SVR - MSE: 645.7127\n",
      "RandomForest - MSE: 224.8754\n",
      "DecisionTree - MSE: 534.6711\n",
      "XGBoost - MSE: 299.4062\n",
      "\n",
      "===== Training models for: citation_k1000 =====\n",
      "SVR - MSE: 28574.1801\n",
      "RandomForest - MSE: 9462.6469\n",
      "DecisionTree - MSE: 21323.0268\n",
      "XGBoost - MSE: 8975.4186\n",
      "\n",
      "===== Training models for: count_k2000 =====\n",
      "SVR - MSE: 631.7726\n",
      "RandomForest - MSE: 124.2705\n",
      "DecisionTree - MSE: 369.1644\n",
      "XGBoost - MSE: 194.1003\n",
      "\n",
      "===== Training models for: citation_k2000 =====\n",
      "SVR - MSE: 28439.0728\n",
      "RandomForest - MSE: 16272.5786\n",
      "DecisionTree - MSE: 12095.6342\n",
      "XGBoost - MSE: 12960.1677\n",
      "\n",
      "===== Training models for: count_k3000 =====\n",
      "SVR - MSE: 628.3261\n",
      "RandomForest - MSE: 108.0992\n",
      "DecisionTree - MSE: 589.0101\n",
      "XGBoost - MSE: 181.1947\n",
      "\n",
      "===== Training models for: citation_k3000 =====\n",
      "SVR - MSE: 28540.3770\n",
      "RandomForest - MSE: 11125.4736\n",
      "DecisionTree - MSE: 37190.0268\n",
      "XGBoost - MSE: 9362.0833\n",
      "\n",
      "===== Training models for: count_k5000 =====\n",
      "SVR - MSE: 635.3914\n",
      "RandomForest - MSE: 198.5224\n",
      "DecisionTree - MSE: 896.4161\n",
      "XGBoost - MSE: 241.4775\n",
      "\n",
      "===== Training models for: citation_k5000 =====\n",
      "SVR - MSE: 28511.3650\n",
      "RandomForest - MSE: 11338.4307\n",
      "DecisionTree - MSE: 71536.2416\n",
      "XGBoost - MSE: 10486.7208\n"
     ]
    }
   ],
   "source": [
    "from scipy import sparse\n",
    "import pandas as pd\n",
    "\n",
    "df = pd.read_csv(\"../../output_dataset/csr_text_processed_v0_preprocessed.csv\")\n",
    "\n",
    "all_results = []\n",
    "\n",
    "for k in [1000, 2000, 3000, 5000]:\n",
    "    for target in [\"count\", \"citation\"]:\n",
    "        tfidf_path = f\"../../output_dataset/tfidf_top{k}_{target}_k{k}.npz\"\n",
    "        X = sparse.load_npz(tfidf_path)\n",
    "        y = df[\"patent_count\"].values if target == \"count\" else df[\"citation_count\"].values\n",
    "\n",
    "        results = train_and_evaluate_models(X, y, target_name=f\"{target}_k{k}\")\n",
    "        all_results.extend(results)\n"
   ]
  },
  {
   "cell_type": "code",
   "execution_count": null,
   "id": "130d7eee",
   "metadata": {},
   "outputs": [],
   "source": [
    "# 結果整理與儲存\n",
    "results_df = pd.DataFrame(all_results)\n",
    "results_df.to_csv(\"../output_dataset/model_eval_results.csv\", index=False)\n",
    "print(\"✅ 所有模型訓練與評估完成，結果已儲存。\")\n"
   ]
  }
 ],
 "metadata": {
  "kernelspec": {
   "display_name": "csr_env",
   "language": "python",
   "name": "csr_env"
  },
  "language_info": {
   "codemirror_mode": {
    "name": "ipython",
    "version": 3
   },
   "file_extension": ".py",
   "mimetype": "text/x-python",
   "name": "python",
   "nbconvert_exporter": "python",
   "pygments_lexer": "ipython3",
   "version": "3.10.16"
  }
 },
 "nbformat": 4,
 "nbformat_minor": 5
}
