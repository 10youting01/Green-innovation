{
 "cells": [
  {
   "cell_type": "code",
   "execution_count": 2,
   "id": "73b09963",
   "metadata": {},
   "outputs": [],
   "source": [
    "test = [[12,2], [11,6]]"
   ]
  },
  {
   "cell_type": "code",
   "execution_count": 3,
   "id": "a7d0842e",
   "metadata": {},
   "outputs": [],
   "source": [
    "best_t = None\n",
    "for t in test:\n",
    "    if t[0] > 11:\n",
    "        best_t = t"
   ]
  },
  {
   "cell_type": "code",
   "execution_count": 5,
   "id": "6aa6b16b",
   "metadata": {},
   "outputs": [],
   "source": [
    "best_t[0]= 0"
   ]
  },
  {
   "cell_type": "code",
   "execution_count": 2,
   "id": "b209dd9f",
   "metadata": {},
   "outputs": [
    {
     "data": {
      "text/plain": [
       "1"
      ]
     },
     "execution_count": 2,
     "metadata": {},
     "output_type": "execute_result"
    }
   ],
   "source": [
    "min([1,2,2,3,1])"
   ]
  },
  {
   "cell_type": "code",
   "execution_count": 3,
   "id": "831e0ad9",
   "metadata": {},
   "outputs": [
    {
     "name": "stdout",
     "output_type": "stream",
     "text": [
      "Total 1140 folders are processed.\n"
     ]
    }
   ],
   "source": [
    "import os\n",
    "# calculate how many folders are in the CSR_report_processed_v4/NASDAQ folder\n",
    "output_folder = \"/media/francia/hdd_1/research_hub/csr_project/CSR_report_processed_v4/CSR_report_new_collect\"\n",
    "folder_count = 0\n",
    "for root, dirs, files in os.walk(output_folder):\n",
    "    for file in files:\n",
    "        if file.endswith(\".json\"):\n",
    "            folder_count += 1\n",
    "print(f\"Total {folder_count} folders are processed.\")"
   ]
  },
  {
   "cell_type": "code",
   "execution_count": 1,
   "id": "0831a320",
   "metadata": {},
   "outputs": [
    {
     "name": "stdout",
     "output_type": "stream",
     "text": [
      "Total 1769 folders are processed.\n"
     ]
    }
   ],
   "source": [
    "import os\n",
    "# calculate how many folders are in the CSR_report_processed_v4/NASDAQ folder\n",
    "output_folder = \"/media/francia/hdd_1/research_hub/csr_project/CSR Reporting/CSR_report_new_collect\"\n",
    "folder_count = 0\n",
    "for root, dirs, files in os.walk(output_folder):\n",
    "    for file in files:\n",
    "        if file.endswith(\".pdf\"):\n",
    "            folder_count += 1\n",
    "print(f\"Total {folder_count} folders are processed.\")"
   ]
  },
  {
   "cell_type": "code",
   "execution_count": null,
   "id": "be6c8b12",
   "metadata": {},
   "outputs": [],
   "source": []
  }
 ],
 "metadata": {
  "kernelspec": {
   "display_name": "csr_env",
   "language": "python",
   "name": "csr_env"
  },
  "language_info": {
   "codemirror_mode": {
    "name": "ipython",
    "version": 3
   },
   "file_extension": ".py",
   "mimetype": "text/x-python",
   "name": "python",
   "nbconvert_exporter": "python",
   "pygments_lexer": "ipython3",
   "version": "3.10.16"
  },
  "toc": {
   "base_numbering": 1,
   "nav_menu": {},
   "number_sections": true,
   "sideBar": true,
   "skip_h1_title": false,
   "title_cell": "Table of Contents",
   "title_sidebar": "Contents",
   "toc_cell": false,
   "toc_position": {},
   "toc_section_display": true,
   "toc_window_display": false
  }
 },
 "nbformat": 4,
 "nbformat_minor": 5
}
