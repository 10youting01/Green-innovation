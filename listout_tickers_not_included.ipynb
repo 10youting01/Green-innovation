{
 "cells": [
  {
   "cell_type": "code",
   "execution_count": null,
   "metadata": {},
   "outputs": [],
   "source": [
    "import pandas as pd"
   ]
  },
  {
   "cell_type": "code",
   "execution_count": null,
   "metadata": {},
   "outputs": [],
   "source": [
    "# NASDAQ = pd.read_csv('output_dataset/handmade_features_NASDAQ_divided.csv')\n",
    "# NYSE = pd.read_csv('output_dataset/handmade_features_NYSE_divided.csv')"
   ]
  },
  {
   "cell_type": "code",
   "execution_count": null,
   "metadata": {},
   "outputs": [],
   "source": [
    "# report_ticker = pd.concat([NASDAQ['','ticker'], NYSE['ticker']], ignore_index=True)"
   ]
  },
  {
   "cell_type": "code",
   "execution_count": null,
   "metadata": {},
   "outputs": [],
   "source": [
    "# report_ticker = report_ticker.drop_duplicates()\n",
    "# report_ticker.to_csv('output_dataset/report_ticker.csv', index=False)"
   ]
  },
  {
   "cell_type": "code",
   "execution_count": 20,
   "metadata": {},
   "outputs": [],
   "source": [
    "report_ticker = pd.read_csv('output_dataset/report_ticker.csv')\n",
    "score = pd.read_csv('CSR_score/common_score_ESG.csv')"
   ]
  },
  {
   "cell_type": "code",
   "execution_count": 21,
   "metadata": {},
   "outputs": [
    {
     "data": {
      "text/plain": [
       "0        PMT\n",
       "1       ACVA\n",
       "2        TRP\n",
       "3       VRTX\n",
       "4        VTR\n",
       "        ... \n",
       "2365     WSC\n",
       "2366    ATNI\n",
       "2367    BPOP\n",
       "2368     DLB\n",
       "2369     PTC\n",
       "Name: ticker, Length: 2370, dtype: object"
      ]
     },
     "execution_count": 21,
     "metadata": {},
     "output_type": "execute_result"
    }
   ],
   "source": [
    "score_ticker = score['ticker']\n",
    "score_ticker"
   ]
  },
  {
   "cell_type": "code",
   "execution_count": 22,
   "metadata": {},
   "outputs": [],
   "source": [
    "not_include = []\n",
    "for i in range(len(report_ticker)):\n",
    "    if report_ticker['ticker'][i] not in score_ticker:\n",
    "        not_include.append(report_ticker['ticker'][i])"
   ]
  },
  {
   "cell_type": "code",
   "execution_count": 24,
   "metadata": {},
   "outputs": [],
   "source": [
    "not_include = pd.DataFrame(not_include, columns=['ticker'])\n",
    "not_include.to_csv('output_dataset/not_include.csv', index=False)"
   ]
  },
  {
   "cell_type": "code",
   "execution_count": 26,
   "metadata": {},
   "outputs": [],
   "source": [
    "with open('output_dataset/not_include.csv', 'r') as f:\n",
    "    with open('output_dataset/bloomberg_not_include.csv', 'w') as f1:\n",
    "        for line in f:\n",
    "            f1.write(line)\n",
    "            f1.write('\\n')"
   ]
  },
  {
   "cell_type": "code",
   "execution_count": null,
   "metadata": {},
   "outputs": [],
   "source": []
  },
  {
   "cell_type": "code",
   "execution_count": null,
   "metadata": {},
   "outputs": [],
   "source": []
  },
  {
   "cell_type": "code",
   "execution_count": null,
   "metadata": {},
   "outputs": [],
   "source": []
  }
 ],
 "metadata": {
  "kernelspec": {
   "display_name": "csr_env",
   "language": "python",
   "name": "csr_env"
  },
  "language_info": {
   "codemirror_mode": {
    "name": "ipython",
    "version": 3
   },
   "file_extension": ".py",
   "mimetype": "text/x-python",
   "name": "python",
   "nbconvert_exporter": "python",
   "pygments_lexer": "ipython3",
   "version": "3.11.4"
  }
 },
 "nbformat": 4,
 "nbformat_minor": 2
}
