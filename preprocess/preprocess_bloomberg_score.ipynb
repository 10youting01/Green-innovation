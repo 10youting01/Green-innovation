{
 "cells": [
  {
   "cell_type": "code",
   "execution_count": 3,
   "metadata": {},
   "outputs": [
    {
     "name": "stderr",
     "output_type": "stream",
     "text": [
      "/tmp/ipykernel_2330925/2560274539.py:8: FutureWarning: Series.fillna with 'method' is deprecated and will raise in a future version. Use obj.ffill() or obj.bfill() instead.\n",
      "  data['ticker'] = data['ticker'].fillna(method='ffill')\n",
      "/tmp/ipykernel_2330925/2560274539.py:28: FutureWarning: DataFrame.applymap has been deprecated. Use DataFrame.map instead.\n",
      "  df = data.applymap(extract_year)\n"
     ]
    },
    {
     "name": "stdout",
     "output_type": "stream",
     "text": [
      "  ticker 2005    2006     2007     2008     2009     2010     2011     2012  \\\n",
      "0   CEQP    0       0        0        0        0        0        0        0   \n",
      "1   ZEAL    0  6.7096   11.689   11.689  20.3501  25.7922  29.1922  29.2828   \n",
      "2   LOGI    0       0        0  29.4337  29.4337  32.1597  32.1597  30.2485   \n",
      "3    PTC    0       0  26.9088  26.9088  26.9088  26.9088  26.9088  27.7437   \n",
      "4   EGLE    0       0        0        0        0  26.9088  26.9088  26.9088   \n",
      "\n",
      "      2013  ...     2015     2016     2017     2018     2019     2020  \\\n",
      "0        0  ...  18.4891  24.3436  32.3308  37.4912   51.866  45.8807   \n",
      "1  29.2828  ...   24.072  30.3088  30.6508  35.2983  35.2983  34.7752   \n",
      "2  33.4876  ...  43.9091  45.9813  47.8926  49.8541  58.4448   65.768   \n",
      "3  30.7313  ...  31.8378  29.0313   32.029  44.1605  48.3754   46.434   \n",
      "4  26.9088  ...  27.9348  27.9348  31.2645  31.2645  31.2645  36.2237   \n",
      "\n",
      "      2021     2022     2023 2024  \n",
      "0  56.4128  59.5011        0    0  \n",
      "1  34.7752  34.3124  38.4971    0  \n",
      "2  67.0959  68.9568  70.2545    0  \n",
      "3   46.957  53.2039  53.0631    0  \n",
      "4  39.2013  37.3906  39.1409    0  \n",
      "\n",
      "[5 rows x 21 columns]\n"
     ]
    }
   ],
   "source": [
    "import pandas as pd\n",
    "import numpy as np\n",
    "\n",
    "# 讀取數據\n",
    "data = pd.read_csv('../CSR_score/bloomberg_not_include_score.csv')\n",
    "\n",
    "# 填充缺失的 ticker 欄位\n",
    "data['ticker'] = data['ticker'].fillna(method='ffill')\n",
    "\n",
    "# 移除包含 '#N/A Review' 和 '#N/A Invalid Security' 的行\n",
    "data['2005'] = data['2005'].fillna('#')\n",
    "sub = '#'\n",
    "filter = data['2005'].str.contains(sub)\n",
    "data = data[~filter]\n",
    "\n",
    "# 計算每個ticker的出現次數，並移除只出現一次的ticker\n",
    "ticker_counts = data['ticker'].value_counts()\n",
    "tickers_once = ticker_counts[ticker_counts == 1].index.tolist()\n",
    "data = data[~data['ticker'].isin(tickers_once)]\n",
    "\n",
    "# 定義一個函數，將日期格式轉換為年份\n",
    "def extract_year(value):\n",
    "    if isinstance(value, str) and '/' in value:\n",
    "        return value.split('/')[0]  # 提取年份\n",
    "    return value  # 如果不是日期格式，保持原樣\n",
    "\n",
    "# 對所有列中的元素應用該函數\n",
    "df = data.applymap(extract_year)\n",
    "\n",
    "# 定義完整的年份範圍\n",
    "year_range = list(map(str, range(2005, 2025)))\n",
    "\n",
    "# 定義一個空的 DataFrame，用來存放合併後的資料\n",
    "merged_data = pd.DataFrame()\n",
    "\n",
    "# 迭代每個 ticker 的配對行\n",
    "for i in range(0, len(df), 2):\n",
    "    ticker = df.iloc[i]['ticker']  # 取得 ticker\n",
    "    years = df.iloc[i][1:]  # 取得年份\n",
    "    scores = df.iloc[i+1][1:]  # 取得分數\n",
    "\n",
    "    # 去除重複的年份\n",
    "    unique_years = years.drop_duplicates()\n",
    "\n",
    "    # 建立一個新的 DataFrame，將唯一年份與分數結合成一行\n",
    "    merged_row = pd.DataFrame([scores.values[:len(unique_years)]], columns=unique_years.values)\n",
    "    merged_row.insert(0, 'ticker', ticker)  # 插入 ticker\n",
    "\n",
    "    # 確保所有年份都有，缺少的年份填上 -1\n",
    "    merged_row = merged_row.reindex(columns=['ticker'] + year_range, fill_value=0)\n",
    "    \n",
    "    # 合併結果\n",
    "    merged_data = pd.concat([merged_data, merged_row], ignore_index=True)\n",
    "\n",
    "# 顯示結果\n",
    "print(merged_data.head())\n",
    "\n",
    "# 將合併後的數據保存到csv\n",
    "merged_data.to_csv('../CSR_score/bloomberg_not_include_score_processed.csv', index=False)"
   ]
  },
  {
   "cell_type": "code",
   "execution_count": 7,
   "metadata": {},
   "outputs": [],
   "source": [
    "nan_data = pd.read_csv('dataset/first_time_nan_tickers_processed.csv')\n",
    "new_data = pd.read_csv('dataset/first_time_new_tickers_processed.csv')\n",
    "# 合併兩個數據集\n",
    "tickers_esg_disclosure_score_1009 = pd.concat([nan_data, new_data], ignore_index=True)\n",
    "tickers_esg_disclosure_score_1009.to_csv('dataset/tickers_esg_disclosure_score_1009.csv', index=False)"
   ]
  },
  {
   "cell_type": "code",
   "execution_count": 10,
   "metadata": {},
   "outputs": [],
   "source": [
    "import pandas as pd\n",
    "ticker = pd.read_csv('dataset/ticker.csv')\n",
    "ticker_all = ticker['ticker'].tolist()\n",
    "tickers_esg_disclosure_score_1009 = pd.read_csv('dataset/tickers_esg_disclosure_score_1009.csv')\n",
    "tickers_esg_disclosure_score_1009 = tickers_esg_disclosure_score_1009['ticker'].tolist()\n",
    "tickers_notfound_1009 = list(set(ticker_all) - set(tickers_esg_disclosure_score_1009))\n",
    "tickers_notfound_1009 = pd.DataFrame(tickers_notfound_1009, columns=['ticker'])\n",
    "tickers_notfound_1009.to_csv('dataset/temp.csv', index=False)\n",
    "# 將未找到的 ticker 每一個之間空一格 \n",
    "# 把first_time_ticker裡面的ticker隔一行放一個\n",
    "with open('dataset/temp.csv', 'r') as f:\n",
    "    with open('dataset/tickers_notfound_1009.csv', 'w') as f1:\n",
    "        for line in f:\n",
    "            f1.write(line)\n",
    "            f1.write('\\n')"
   ]
  },
  {
   "cell_type": "code",
   "execution_count": null,
   "metadata": {},
   "outputs": [],
   "source": []
  }
 ],
 "metadata": {
  "kernelspec": {
   "display_name": "csr_env",
   "language": "python",
   "name": "csr_env"
  },
  "language_info": {
   "codemirror_mode": {
    "name": "ipython",
    "version": 3
   },
   "file_extension": ".py",
   "mimetype": "text/x-python",
   "name": "python",
   "nbconvert_exporter": "python",
   "pygments_lexer": "ipython3",
   "version": "3.11.4"
  }
 },
 "nbformat": 4,
 "nbformat_minor": 2
}
