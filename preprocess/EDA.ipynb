{
 "cells": [
  {
   "cell_type": "markdown",
   "metadata": {},
   "source": [
    "# 列出所有的報告"
   ]
  },
  {
   "cell_type": "code",
   "execution_count": 2,
   "metadata": {},
   "outputs": [],
   "source": [
    "import pandas as pd"
   ]
  },
  {
   "cell_type": "code",
   "execution_count": 3,
   "metadata": {},
   "outputs": [],
   "source": [
    "hm_NASDAQ_divided = pd.read_csv('../output_dataset/handmade_features_NASDAQ_divided.csv')\n",
    "hm_NYSE_divided = pd.read_csv('../output_dataset/handmade_features_NYSE_divided.csv')"
   ]
  },
  {
   "cell_type": "code",
   "execution_count": 4,
   "metadata": {},
   "outputs": [],
   "source": [
    "report_all = pd.concat([hm_NASDAQ_divided, hm_NYSE_divided], axis=0)\n",
    "report_all = report_all[[\"folder_name\", \"exchange\", \"ticker\", \"year1\",\t\"year2\"]]\n",
    "report_all.sort_values(by=[\"folder_name\", \"exchange\", \"ticker\", \"year1\", \"year2\"], inplace=True)"
   ]
  },
  {
   "cell_type": "code",
   "execution_count": 5,
   "metadata": {},
   "outputs": [
    {
     "data": {
      "text/plain": [
       "6098"
      ]
     },
     "execution_count": 5,
     "metadata": {},
     "output_type": "execute_result"
    }
   ],
   "source": [
    "report_all.to_csv('../output_dataset/report_all.csv', index=False)\n",
    "len(report_all)"
   ]
  },
  {
   "cell_type": "markdown",
   "metadata": {},
   "source": [
    "# 算出每一年的報告數量"
   ]
  },
  {
   "cell_type": "code",
   "execution_count": 8,
   "metadata": {},
   "outputs": [],
   "source": [
    "import pandas as pd"
   ]
  },
  {
   "cell_type": "code",
   "execution_count": 9,
   "metadata": {},
   "outputs": [],
   "source": [
    "report_all = pd.read_csv('../output_dataset/report_all.csv')"
   ]
  },
  {
   "cell_type": "code",
   "execution_count": 17,
   "metadata": {},
   "outputs": [],
   "source": [
    "# Calculate the number of report in each year\n",
    "report_all['year1'] = report_all['year1'].astype(str)\n",
    "groupby_year = report_all.groupby(['year1']).size().reset_index(name='count')\n",
    "groupby_year_wide = groupby_year.set_index('year1').T\n",
    "groupby_year_wide.to_csv('../output_dataset/groupby_year.csv', index=False)"
   ]
  },
  {
   "cell_type": "markdown",
   "metadata": {},
   "source": [
    "## Merge score and report"
   ]
  },
  {
   "cell_type": "code",
   "execution_count": 45,
   "metadata": {},
   "outputs": [],
   "source": [
    "import pandas as pd\n",
    "import numpy as np"
   ]
  },
  {
   "cell_type": "code",
   "execution_count": 46,
   "metadata": {},
   "outputs": [],
   "source": [
    "report_all = pd.read_csv('../output_dataset/report_all.csv')\n",
    "common_score_ESG_all = pd.read_csv('../CSR_score/common_score_ESG_all.csv')"
   ]
  },
  {
   "cell_type": "code",
   "execution_count": 47,
   "metadata": {},
   "outputs": [],
   "source": [
    "# drop those rows that ticker in common_score_ESG_all not in report_all\n",
    "common_ticker = set(report_all['ticker']) & set(common_score_ESG_all['ticker'])\n",
    "common_score_ESG_with_report = common_score_ESG_all[common_score_ESG_all['ticker'].isin(common_ticker)]\n",
    "report_with_score = report_all[report_all['ticker'].isin(common_ticker)]"
   ]
  },
  {
   "cell_type": "code",
   "execution_count": 48,
   "metadata": {},
   "outputs": [
    {
     "name": "stdout",
     "output_type": "stream",
     "text": [
      "\n",
      "🚨 無法在 common_score_ESG_all 中找到的 ticker: {'LOGI', 'SBLK', 'ARNC', 'AHS', 'AAR', 'KEM', 'PANL', 'WF', 'VIST', 'BF', 'PBR', 'DPH', 'MYL', 'GTI', 'SUPV', 'DBRG', 'GSH', 'BVN', 'KB', 'LAZ', 'TSLA', 'CLB', 'DOO', 'CSIQ', 'HASI', 'ALXN', 'MNR', 'SNE', 'NGLS', 'CIT', 'MIC', 'ACH', 'UTX', 'INFO', 'ZMH', 'CUB', 'AZ', 'HDB', 'TETY', 'AMRX', 'RCI', 'MEOH', 'ABEV', 'RDS', 'TVE', 'AU', 'ENIC', 'HON', 'CHT', 'KIM', 'WYND', 'LBTYA', 'LXK', 'PEAK', 'TSE', 'AZPN', 'SHEL', 'CTL', 'PETD', 'IBA', 'ZNH', 'CHL', 'VALE', 'SALT', 'PSA', 'GPS', 'TORM', 'CPIX', 'UUUU', 'DLGS', 'GAM', 'SQM', 'VLRS', 'NHS', 'GOOG', 'WNFM', 'SERV', 'LIN', 'GLOP', 'SGS', 'QVCC', 'CWEN', 'E', 'RELX', 'CINR', 'CRGY', 'LPL', 'KKR', 'Z', 'COLD', 'HPQ', 'JEC', 'FCAU', 'ERIC', 'CRD', 'DBD', 'SPXC', 'LND', 'FMX', 'KNOP', 'FS', 'AGII', 'NBL', 'DPS', 'NVS', 'HFC', 'CMN', 'DNR', 'SYT', 'RDY', 'CAMP', 'SPP', 'TAK', 'SAFM'}\n"
     ]
    },
    {
     "data": {
      "text/html": [
       "<div>\n",
       "<style scoped>\n",
       "    .dataframe tbody tr th:only-of-type {\n",
       "        vertical-align: middle;\n",
       "    }\n",
       "\n",
       "    .dataframe tbody tr th {\n",
       "        vertical-align: top;\n",
       "    }\n",
       "\n",
       "    .dataframe thead th {\n",
       "        text-align: right;\n",
       "    }\n",
       "</style>\n",
       "<table border=\"1\" class=\"dataframe\">\n",
       "  <thead>\n",
       "    <tr style=\"text-align: right;\">\n",
       "      <th></th>\n",
       "      <th>folder_name</th>\n",
       "      <th>exchange</th>\n",
       "      <th>ticker</th>\n",
       "      <th>year1</th>\n",
       "      <th>year2</th>\n",
       "    </tr>\n",
       "  </thead>\n",
       "  <tbody>\n",
       "    <tr>\n",
       "      <th>0</th>\n",
       "      <td>NASDAQ_AAL_2007</td>\n",
       "      <td>NASDAQ</td>\n",
       "      <td>AAL</td>\n",
       "      <td>2007</td>\n",
       "      <td>&lt;NA&gt;</td>\n",
       "    </tr>\n",
       "    <tr>\n",
       "      <th>1</th>\n",
       "      <td>NASDAQ_AAL_2008</td>\n",
       "      <td>NASDAQ</td>\n",
       "      <td>AAL</td>\n",
       "      <td>2008</td>\n",
       "      <td>&lt;NA&gt;</td>\n",
       "    </tr>\n",
       "    <tr>\n",
       "      <th>2</th>\n",
       "      <td>NASDAQ_AAL_2009</td>\n",
       "      <td>NASDAQ</td>\n",
       "      <td>AAL</td>\n",
       "      <td>2009</td>\n",
       "      <td>&lt;NA&gt;</td>\n",
       "    </tr>\n",
       "    <tr>\n",
       "      <th>3</th>\n",
       "      <td>NASDAQ_AAL_2011</td>\n",
       "      <td>NASDAQ</td>\n",
       "      <td>AAL</td>\n",
       "      <td>2011</td>\n",
       "      <td>&lt;NA&gt;</td>\n",
       "    </tr>\n",
       "    <tr>\n",
       "      <th>4</th>\n",
       "      <td>NASDAQ_AAL_2012</td>\n",
       "      <td>NASDAQ</td>\n",
       "      <td>AAL</td>\n",
       "      <td>2012</td>\n",
       "      <td>&lt;NA&gt;</td>\n",
       "    </tr>\n",
       "    <tr>\n",
       "      <th>...</th>\n",
       "      <td>...</td>\n",
       "      <td>...</td>\n",
       "      <td>...</td>\n",
       "      <td>...</td>\n",
       "      <td>...</td>\n",
       "    </tr>\n",
       "    <tr>\n",
       "      <th>6070</th>\n",
       "      <td>NYSE_ZBH_2020</td>\n",
       "      <td>NYSE</td>\n",
       "      <td>ZBH</td>\n",
       "      <td>2020</td>\n",
       "      <td>&lt;NA&gt;</td>\n",
       "    </tr>\n",
       "    <tr>\n",
       "      <th>6071</th>\n",
       "      <td>NYSE_ZBH_2021</td>\n",
       "      <td>NYSE</td>\n",
       "      <td>ZBH</td>\n",
       "      <td>2021</td>\n",
       "      <td>&lt;NA&gt;</td>\n",
       "    </tr>\n",
       "    <tr>\n",
       "      <th>6072</th>\n",
       "      <td>NYSE_ZEN_2019</td>\n",
       "      <td>NYSE</td>\n",
       "      <td>ZEN</td>\n",
       "      <td>2019</td>\n",
       "      <td>&lt;NA&gt;</td>\n",
       "    </tr>\n",
       "    <tr>\n",
       "      <th>6073</th>\n",
       "      <td>NYSE_ZEN_2020</td>\n",
       "      <td>NYSE</td>\n",
       "      <td>ZEN</td>\n",
       "      <td>2020</td>\n",
       "      <td>&lt;NA&gt;</td>\n",
       "    </tr>\n",
       "    <tr>\n",
       "      <th>6074</th>\n",
       "      <td>NYSE_ZEN_2021</td>\n",
       "      <td>NYSE</td>\n",
       "      <td>ZEN</td>\n",
       "      <td>2021</td>\n",
       "      <td>&lt;NA&gt;</td>\n",
       "    </tr>\n",
       "  </tbody>\n",
       "</table>\n",
       "<p>5461 rows × 5 columns</p>\n",
       "</div>"
      ],
      "text/plain": [
       "          folder_name exchange ticker  year1  year2\n",
       "0     NASDAQ_AAL_2007   NASDAQ    AAL   2007   <NA>\n",
       "1     NASDAQ_AAL_2008   NASDAQ    AAL   2008   <NA>\n",
       "2     NASDAQ_AAL_2009   NASDAQ    AAL   2009   <NA>\n",
       "3     NASDAQ_AAL_2011   NASDAQ    AAL   2011   <NA>\n",
       "4     NASDAQ_AAL_2012   NASDAQ    AAL   2012   <NA>\n",
       "...               ...      ...    ...    ...    ...\n",
       "6070    NYSE_ZBH_2020     NYSE    ZBH   2020   <NA>\n",
       "6071    NYSE_ZBH_2021     NYSE    ZBH   2021   <NA>\n",
       "6072    NYSE_ZEN_2019     NYSE    ZEN   2019   <NA>\n",
       "6073    NYSE_ZEN_2020     NYSE    ZEN   2020   <NA>\n",
       "6074    NYSE_ZEN_2021     NYSE    ZEN   2021   <NA>\n",
       "\n",
       "[5461 rows x 5 columns]"
      ]
     },
     "execution_count": 48,
     "metadata": {},
     "output_type": "execute_result"
    }
   ],
   "source": [
    "# 確保 ticker 格式一致（去除空格 & 轉大寫）\n",
    "report_all['ticker'] = report_all['ticker'].str.strip().str.upper()\n",
    "common_score_ESG_all['ticker'] = common_score_ESG_all['ticker'].str.strip().str.upper()\n",
    "\n",
    "# 把 year1 和 year2 如果不為空就轉成整數格式\n",
    "report_all['year1'] = report_all['year1'].replace('', np.nan).astype(float).astype('Int64')\n",
    "report_all['year2'] = report_all['year2'].replace('', np.nan).astype(float).astype('Int64')\n",
    "\n",
    "# 找出 missing_tickers\n",
    "missing_tickers = set(report_all['ticker'].unique()) - set(common_score_ESG_all['ticker'].unique())\n",
    "print(\"\\n🚨 無法在 common_score_ESG_all 中找到的 ticker:\", missing_tickers)\n",
    "\n",
    "# 移除 `missing_tickers`，只保留 common_score_ESG_all 有的 ticker\n",
    "filtered_report_all = report_all[~report_all['ticker'].isin(missing_tickers)].copy()\n",
    "filtered_report_all"
   ]
  },
  {
   "cell_type": "code",
   "execution_count": 49,
   "metadata": {},
   "outputs": [],
   "source": [
    "# 轉換 common_score 為 long format\n",
    "common_score_long = common_score_ESG_all.melt(id_vars=['ticker'], var_name='year', value_name='GWscore')\n",
    "common_score_long['year'] = common_score_long['year'].astype(int)  # 確保 year 是 int\n",
    "\n",
    "# 合併 year1 的 GWscore\n",
    "filtered_report_all = report_all.merge(\n",
    "    common_score_long, left_on=['ticker', 'year1'], right_on=['ticker', 'year'], how='left'\n",
    ")\n",
    "filtered_report_all.rename(columns={'GWscore': 'GWscore_year1'}, inplace=True)\n",
    "filtered_report_all.drop(columns=['year'], inplace=True)\n",
    "\n",
    "# 合併 year2 的 GWscore\n",
    "filtered_report_all = filtered_report_all.merge(\n",
    "    common_score_long, left_on=['ticker', 'year2'], right_on=['ticker', 'year'], how='left'\n",
    ")\n",
    "filtered_report_all.rename(columns={'GWscore': 'GWscore_year2'}, inplace=True)\n",
    "filtered_report_all.drop(columns=['year'], inplace=True)\n",
    "\n",
    "# 若 year2 是空，則使用 year1 分數；否則取兩者平均\n",
    "filtered_report_all['GWscore_final'] = filtered_report_all.apply(\n",
    "    lambda row: row['GWscore_year1'] if pd.isna(row['year2']) or row['year2'] == '' \n",
    "    else (row['GWscore_year1'] + row['GWscore_year2']) / 2,\n",
    "    axis=1\n",
    ")\n",
    "\n",
    "filtered_report_all.rename(columns={'GWscore_final': 'greenwash_score'}, inplace=True)\n",
    "filtered_report_all.drop(columns=['GWscore_year1', 'GWscore_year2'], inplace=True)\n",
    "filtered_report_all.dropna(subset=['greenwash_score'], inplace=True)"
   ]
  },
  {
   "cell_type": "code",
   "execution_count": 51,
   "metadata": {},
   "outputs": [],
   "source": [
    "filtered_report_all.to_csv('../output_dataset/report_all_with_score.csv', index=False)"
   ]
  },
  {
   "cell_type": "markdown",
   "metadata": {},
   "source": [
    "# 算出每一家公司的 GW score 統計量"
   ]
  },
  {
   "cell_type": "code",
   "execution_count": null,
   "metadata": {},
   "outputs": [],
   "source": [
    "import pandas as pd\n",
    "import numpy as np"
   ]
  },
  {
   "cell_type": "code",
   "execution_count": null,
   "metadata": {},
   "outputs": [],
   "source": [
    "report_all = pd.read_csv('../output_dataset/report_all.csv')\n",
    "common_score_ESG_all = pd.read_csv('../CSR_score/common_score_ESG_all.csv')"
   ]
  },
  {
   "cell_type": "code",
   "execution_count": null,
   "metadata": {},
   "outputs": [],
   "source": [
    "# drop those rows that ticker in common_score_ESG_all not in report_all\n",
    "common_ticker = set(report_all['ticker']) & set(common_score_ESG_all['ticker'])\n",
    "common_score_ESG_with_report = common_score_ESG_all[common_score_ESG_all['ticker'].isin(common_ticker)]\n",
    "report_with_score = report_all[report_all['ticker'].isin(common_ticker)]"
   ]
  },
  {
   "cell_type": "code",
   "execution_count": 65,
   "metadata": {},
   "outputs": [],
   "source": [
    "# find the first year of each ticker\n",
    "ticker_start = report_with_score['ticker'].unique()\n",
    "ticker_start = pd.DataFrame(ticker_start, columns=['ticker'])\n",
    "ticker_start['year1'] = report_with_score.groupby('ticker')['year1'].min().values\n",
    "ticker_start.to_csv('../output_dataset/ticker_start.csv', index=False)"
   ]
  },
  {
   "cell_type": "code",
   "execution_count": 61,
   "metadata": {},
   "outputs": [],
   "source": [
    "common_score_ESG_with_report = common_score_ESG_with_report.replace(0, np.nan)\n",
    "common_score_ESG_with_report = common_score_ESG_with_report.set_index('ticker')\n",
    "\n",
    "ticker_start = ticker_start.set_index('ticker')\n",
    "ticker_start['year1'] = ticker_start['year1'].astype(str)"
   ]
  },
  {
   "cell_type": "code",
   "execution_count": 64,
   "metadata": {},
   "outputs": [],
   "source": [
    "std_result = {}\n",
    "\n",
    "for ticker in ticker_start.index:\n",
    "    start_year = ticker_start.loc[ticker, 'year1']\n",
    "\n",
    "    all_years = common_score_ESG_with_report.columns\n",
    "    valid_years = [y for y in all_years if y >= start_year]\n",
    "    scores = common_score_ESG_with_report.loc[ticker, valid_years].dropna()\n",
    "    std = scores.std()\n",
    "    std_result[ticker] = std\n",
    "\n",
    "std_result = pd.DataFrame.from_dict(std_result, orient='index', columns=['std']).reset_index()\n",
    "std_result.columns = ['ticker', 'std']\n",
    "std_result.to_csv('../output_dataset/std_result.csv', index=False)"
   ]
  },
  {
   "cell_type": "markdown",
   "metadata": {},
   "source": [
    "有一些企業沒有std，是因為有報告的起始年份開始沒有分數"
   ]
  },
  {
   "cell_type": "markdown",
   "metadata": {},
   "source": [
    "# Describe of GW score std "
   ]
  },
  {
   "cell_type": "code",
   "execution_count": 66,
   "metadata": {},
   "outputs": [],
   "source": [
    "import pandas as pd\n",
    "import numpy as np"
   ]
  },
  {
   "cell_type": "code",
   "execution_count": 67,
   "metadata": {},
   "outputs": [],
   "source": [
    "std_result = pd.read_csv('../output_dataset/std_result.csv')"
   ]
  },
  {
   "cell_type": "code",
   "execution_count": 68,
   "metadata": {},
   "outputs": [
    {
     "data": {
      "text/plain": [
       "count    999.000000\n",
       "mean       6.412693\n",
       "std        4.310507\n",
       "min        0.173531\n",
       "25%        3.647040\n",
       "50%        5.544497\n",
       "75%        7.858265\n",
       "max       38.497985\n",
       "Name: std, dtype: float64"
      ]
     },
     "execution_count": 68,
     "metadata": {},
     "output_type": "execute_result"
    }
   ],
   "source": [
    "std_result['std'].describe()"
   ]
  },
  {
   "cell_type": "markdown",
   "metadata": {},
   "source": [
    "# Merge CSR_embedding and handmade features"
   ]
  },
  {
   "cell_type": "code",
   "execution_count": 1,
   "metadata": {},
   "outputs": [],
   "source": [
    "import pandas as pd"
   ]
  },
  {
   "cell_type": "code",
   "execution_count": 2,
   "metadata": {},
   "outputs": [],
   "source": [
    "csr_embeddings_score = pd.read_csv(\"../greenwashing_prediction/data/csr_embeddings_score.csv\")\n",
    "handmade_features_score = pd.read_csv(\"../greenwashing_prediction/data/handmade_features_all_v1_corrected_txt_divided_with_score.csv\")"
   ]
  },
  {
   "cell_type": "code",
   "execution_count": 3,
   "metadata": {},
   "outputs": [],
   "source": [
    "csr_embeddings_hm_score = pd.merge(\n",
    "    csr_embeddings_score,\n",
    "    handmade_features_score,\n",
    "    how=\"inner\",\n",
    "    left_on=[\"file_name\"],\n",
    "    right_on=[\"folder_name\"],\n",
    ")\n",
    "# csr_embeddings_hm_score.dropna(inplace=True)\n",
    "# csr_embeddings_hm_score = csr_embeddings_hm_score[csr_embeddings_hm_score[\"greenwash_score\"] != 0]"
   ]
  },
  {
   "cell_type": "code",
   "execution_count": 4,
   "metadata": {},
   "outputs": [
    {
     "name": "stdout",
     "output_type": "stream",
     "text": [
      "['file_name', 'dim_0', 'dim_1', 'dim_2', 'dim_3', 'dim_4', 'dim_5', 'dim_6', 'dim_7', 'dim_8', 'dim_9', 'dim_10', 'dim_11', 'dim_12', 'dim_13', 'dim_14', 'dim_15', 'dim_16', 'dim_17', 'dim_18', 'dim_19', 'dim_20', 'dim_21', 'dim_22', 'dim_23', 'dim_24', 'dim_25', 'dim_26', 'dim_27', 'dim_28', 'dim_29', 'dim_30', 'dim_31', 'dim_32', 'dim_33', 'dim_34', 'dim_35', 'dim_36', 'dim_37', 'dim_38', 'dim_39', 'dim_40', 'dim_41', 'dim_42', 'dim_43', 'dim_44', 'dim_45', 'dim_46', 'dim_47', 'dim_48', 'dim_49', 'dim_50', 'dim_51', 'dim_52', 'dim_53', 'dim_54', 'dim_55', 'dim_56', 'dim_57', 'dim_58', 'dim_59', 'dim_60', 'dim_61', 'dim_62', 'dim_63', 'dim_64', 'dim_65', 'dim_66', 'dim_67', 'dim_68', 'dim_69', 'dim_70', 'dim_71', 'dim_72', 'dim_73', 'dim_74', 'dim_75', 'dim_76', 'dim_77', 'dim_78', 'dim_79', 'dim_80', 'dim_81', 'dim_82', 'dim_83', 'dim_84', 'dim_85', 'dim_86', 'dim_87', 'dim_88', 'dim_89', 'dim_90', 'dim_91', 'dim_92', 'dim_93', 'dim_94', 'dim_95', 'dim_96', 'dim_97', 'dim_98', 'dim_99', 'dim_100', 'dim_101', 'dim_102', 'dim_103', 'dim_104', 'dim_105', 'dim_106', 'dim_107', 'dim_108', 'dim_109', 'dim_110', 'dim_111', 'dim_112', 'dim_113', 'dim_114', 'dim_115', 'dim_116', 'dim_117', 'dim_118', 'dim_119', 'dim_120', 'dim_121', 'dim_122', 'dim_123', 'dim_124', 'dim_125', 'dim_126', 'dim_127', 'dim_128', 'dim_129', 'dim_130', 'dim_131', 'dim_132', 'dim_133', 'dim_134', 'dim_135', 'dim_136', 'dim_137', 'dim_138', 'dim_139', 'dim_140', 'dim_141', 'dim_142', 'dim_143', 'dim_144', 'dim_145', 'dim_146', 'dim_147', 'dim_148', 'dim_149', 'dim_150', 'dim_151', 'dim_152', 'dim_153', 'dim_154', 'dim_155', 'dim_156', 'dim_157', 'dim_158', 'dim_159', 'dim_160', 'dim_161', 'dim_162', 'dim_163', 'dim_164', 'dim_165', 'dim_166', 'dim_167', 'dim_168', 'dim_169', 'dim_170', 'dim_171', 'dim_172', 'dim_173', 'dim_174', 'dim_175', 'dim_176', 'dim_177', 'dim_178', 'dim_179', 'dim_180', 'dim_181', 'dim_182', 'dim_183', 'dim_184', 'dim_185', 'dim_186', 'dim_187', 'dim_188', 'dim_189', 'dim_190', 'dim_191', 'dim_192', 'dim_193', 'dim_194', 'dim_195', 'dim_196', 'dim_197', 'dim_198', 'dim_199', 'dim_200', 'dim_201', 'dim_202', 'dim_203', 'dim_204', 'dim_205', 'dim_206', 'dim_207', 'dim_208', 'dim_209', 'dim_210', 'dim_211', 'dim_212', 'dim_213', 'dim_214', 'dim_215', 'dim_216', 'dim_217', 'dim_218', 'dim_219', 'dim_220', 'dim_221', 'dim_222', 'dim_223', 'dim_224', 'dim_225', 'dim_226', 'dim_227', 'dim_228', 'dim_229', 'dim_230', 'dim_231', 'dim_232', 'dim_233', 'dim_234', 'dim_235', 'dim_236', 'dim_237', 'dim_238', 'dim_239', 'dim_240', 'dim_241', 'dim_242', 'dim_243', 'dim_244', 'dim_245', 'dim_246', 'dim_247', 'dim_248', 'dim_249', 'dim_250', 'dim_251', 'dim_252', 'dim_253', 'dim_254', 'dim_255', 'dim_256', 'dim_257', 'dim_258', 'dim_259', 'dim_260', 'dim_261', 'dim_262', 'dim_263', 'dim_264', 'dim_265', 'dim_266', 'dim_267', 'dim_268', 'dim_269', 'dim_270', 'dim_271', 'dim_272', 'dim_273', 'dim_274', 'dim_275', 'dim_276', 'dim_277', 'dim_278', 'dim_279', 'dim_280', 'dim_281', 'dim_282', 'dim_283', 'dim_284', 'dim_285', 'dim_286', 'dim_287', 'dim_288', 'dim_289', 'dim_290', 'dim_291', 'dim_292', 'dim_293', 'dim_294', 'dim_295', 'dim_296', 'dim_297', 'dim_298', 'dim_299', 'dim_300', 'dim_301', 'dim_302', 'dim_303', 'dim_304', 'dim_305', 'dim_306', 'dim_307', 'dim_308', 'dim_309', 'dim_310', 'dim_311', 'dim_312', 'dim_313', 'dim_314', 'dim_315', 'dim_316', 'dim_317', 'dim_318', 'dim_319', 'dim_320', 'dim_321', 'dim_322', 'dim_323', 'dim_324', 'dim_325', 'dim_326', 'dim_327', 'dim_328', 'dim_329', 'dim_330', 'dim_331', 'dim_332', 'dim_333', 'dim_334', 'dim_335', 'dim_336', 'dim_337', 'dim_338', 'dim_339', 'dim_340', 'dim_341', 'dim_342', 'dim_343', 'dim_344', 'dim_345', 'dim_346', 'dim_347', 'dim_348', 'dim_349', 'dim_350', 'dim_351', 'dim_352', 'dim_353', 'dim_354', 'dim_355', 'dim_356', 'dim_357', 'dim_358', 'dim_359', 'dim_360', 'dim_361', 'dim_362', 'dim_363', 'dim_364', 'dim_365', 'dim_366', 'dim_367', 'dim_368', 'dim_369', 'dim_370', 'dim_371', 'dim_372', 'dim_373', 'dim_374', 'dim_375', 'dim_376', 'dim_377', 'dim_378', 'dim_379', 'dim_380', 'dim_381', 'dim_382', 'dim_383', 'dim_384', 'dim_385', 'dim_386', 'dim_387', 'dim_388', 'dim_389', 'dim_390', 'dim_391', 'dim_392', 'dim_393', 'dim_394', 'dim_395', 'dim_396', 'dim_397', 'dim_398', 'dim_399', 'dim_400', 'dim_401', 'dim_402', 'dim_403', 'dim_404', 'dim_405', 'dim_406', 'dim_407', 'dim_408', 'dim_409', 'dim_410', 'dim_411', 'dim_412', 'dim_413', 'dim_414', 'dim_415', 'dim_416', 'dim_417', 'dim_418', 'dim_419', 'dim_420', 'dim_421', 'dim_422', 'dim_423', 'dim_424', 'dim_425', 'dim_426', 'dim_427', 'dim_428', 'dim_429', 'dim_430', 'dim_431', 'dim_432', 'dim_433', 'dim_434', 'dim_435', 'dim_436', 'dim_437', 'dim_438', 'dim_439', 'dim_440', 'dim_441', 'dim_442', 'dim_443', 'dim_444', 'dim_445', 'dim_446', 'dim_447', 'dim_448', 'dim_449', 'dim_450', 'dim_451', 'dim_452', 'dim_453', 'dim_454', 'dim_455', 'dim_456', 'dim_457', 'dim_458', 'dim_459', 'dim_460', 'dim_461', 'dim_462', 'dim_463', 'dim_464', 'dim_465', 'dim_466', 'dim_467', 'dim_468', 'dim_469', 'dim_470', 'dim_471', 'dim_472', 'dim_473', 'dim_474', 'dim_475', 'dim_476', 'dim_477', 'dim_478', 'dim_479', 'dim_480', 'dim_481', 'dim_482', 'dim_483', 'dim_484', 'dim_485', 'dim_486', 'dim_487', 'dim_488', 'dim_489', 'dim_490', 'dim_491', 'dim_492', 'dim_493', 'dim_494', 'dim_495', 'dim_496', 'dim_497', 'dim_498', 'dim_499', 'dim_500', 'dim_501', 'dim_502', 'dim_503', 'dim_504', 'dim_505', 'dim_506', 'dim_507', 'dim_508', 'dim_509', 'dim_510', 'dim_511', 'dim_512', 'dim_513', 'dim_514', 'dim_515', 'dim_516', 'dim_517', 'dim_518', 'dim_519', 'dim_520', 'dim_521', 'dim_522', 'dim_523', 'dim_524', 'dim_525', 'dim_526', 'dim_527', 'dim_528', 'dim_529', 'dim_530', 'dim_531', 'dim_532', 'dim_533', 'dim_534', 'dim_535', 'dim_536', 'dim_537', 'dim_538', 'dim_539', 'dim_540', 'dim_541', 'dim_542', 'dim_543', 'dim_544', 'dim_545', 'dim_546', 'dim_547', 'dim_548', 'dim_549', 'dim_550', 'dim_551', 'dim_552', 'dim_553', 'dim_554', 'dim_555', 'dim_556', 'dim_557', 'dim_558', 'dim_559', 'dim_560', 'dim_561', 'dim_562', 'dim_563', 'dim_564', 'dim_565', 'dim_566', 'dim_567', 'dim_568', 'dim_569', 'dim_570', 'dim_571', 'dim_572', 'dim_573', 'dim_574', 'dim_575', 'dim_576', 'dim_577', 'dim_578', 'dim_579', 'dim_580', 'dim_581', 'dim_582', 'dim_583', 'dim_584', 'dim_585', 'dim_586', 'dim_587', 'dim_588', 'dim_589', 'dim_590', 'dim_591', 'dim_592', 'dim_593', 'dim_594', 'dim_595', 'dim_596', 'dim_597', 'dim_598', 'dim_599', 'dim_600', 'dim_601', 'dim_602', 'dim_603', 'dim_604', 'dim_605', 'dim_606', 'dim_607', 'dim_608', 'dim_609', 'dim_610', 'dim_611', 'dim_612', 'dim_613', 'dim_614', 'dim_615', 'dim_616', 'dim_617', 'dim_618', 'dim_619', 'dim_620', 'dim_621', 'dim_622', 'dim_623', 'dim_624', 'dim_625', 'dim_626', 'dim_627', 'dim_628', 'dim_629', 'dim_630', 'dim_631', 'dim_632', 'dim_633', 'dim_634', 'dim_635', 'dim_636', 'dim_637', 'dim_638', 'dim_639', 'dim_640', 'dim_641', 'dim_642', 'dim_643', 'dim_644', 'dim_645', 'dim_646', 'dim_647', 'dim_648', 'dim_649', 'dim_650', 'dim_651', 'dim_652', 'dim_653', 'dim_654', 'dim_655', 'dim_656', 'dim_657', 'dim_658', 'dim_659', 'dim_660', 'dim_661', 'dim_662', 'dim_663', 'dim_664', 'dim_665', 'dim_666', 'dim_667', 'dim_668', 'dim_669', 'dim_670', 'dim_671', 'dim_672', 'dim_673', 'dim_674', 'dim_675', 'dim_676', 'dim_677', 'dim_678', 'dim_679', 'dim_680', 'dim_681', 'dim_682', 'dim_683', 'dim_684', 'dim_685', 'dim_686', 'dim_687', 'dim_688', 'dim_689', 'dim_690', 'dim_691', 'dim_692', 'dim_693', 'dim_694', 'dim_695', 'dim_696', 'dim_697', 'dim_698', 'dim_699', 'dim_700', 'dim_701', 'dim_702', 'dim_703', 'dim_704', 'dim_705', 'dim_706', 'dim_707', 'dim_708', 'dim_709', 'dim_710', 'dim_711', 'dim_712', 'dim_713', 'dim_714', 'dim_715', 'dim_716', 'dim_717', 'dim_718', 'dim_719', 'dim_720', 'dim_721', 'dim_722', 'dim_723', 'dim_724', 'dim_725', 'dim_726', 'dim_727', 'dim_728', 'dim_729', 'dim_730', 'dim_731', 'dim_732', 'dim_733', 'dim_734', 'dim_735', 'dim_736', 'dim_737', 'dim_738', 'dim_739', 'dim_740', 'dim_741', 'dim_742', 'dim_743', 'dim_744', 'dim_745', 'dim_746', 'dim_747', 'dim_748', 'dim_749', 'dim_750', 'dim_751', 'dim_752', 'dim_753', 'dim_754', 'dim_755', 'dim_756', 'dim_757', 'dim_758', 'dim_759', 'dim_760', 'dim_761', 'dim_762', 'dim_763', 'dim_764', 'dim_765', 'dim_766', 'dim_767', 'dim_768', 'dim_769', 'dim_770', 'dim_771', 'dim_772', 'dim_773', 'dim_774', 'dim_775', 'dim_776', 'dim_777', 'dim_778', 'dim_779', 'dim_780', 'dim_781', 'dim_782', 'dim_783', 'dim_784', 'dim_785', 'dim_786', 'dim_787', 'dim_788', 'dim_789', 'dim_790', 'dim_791', 'dim_792', 'dim_793', 'dim_794', 'dim_795', 'dim_796', 'dim_797', 'dim_798', 'dim_799', 'dim_800', 'dim_801', 'dim_802', 'dim_803', 'dim_804', 'dim_805', 'dim_806', 'dim_807', 'dim_808', 'dim_809', 'dim_810', 'dim_811', 'dim_812', 'dim_813', 'dim_814', 'dim_815', 'dim_816', 'dim_817', 'dim_818', 'dim_819', 'dim_820', 'dim_821', 'dim_822', 'dim_823', 'dim_824', 'dim_825', 'dim_826', 'dim_827', 'dim_828', 'dim_829', 'dim_830', 'dim_831', 'dim_832', 'dim_833', 'dim_834', 'dim_835', 'dim_836', 'dim_837', 'dim_838', 'dim_839', 'dim_840', 'dim_841', 'dim_842', 'dim_843', 'dim_844', 'dim_845', 'dim_846', 'dim_847', 'dim_848', 'dim_849', 'dim_850', 'dim_851', 'dim_852', 'dim_853', 'dim_854', 'dim_855', 'dim_856', 'dim_857', 'dim_858', 'dim_859', 'dim_860', 'dim_861', 'dim_862', 'dim_863', 'dim_864', 'dim_865', 'dim_866', 'dim_867', 'dim_868', 'dim_869', 'dim_870', 'dim_871', 'dim_872', 'dim_873', 'dim_874', 'dim_875', 'dim_876', 'dim_877', 'dim_878', 'dim_879', 'dim_880', 'dim_881', 'dim_882', 'dim_883', 'dim_884', 'dim_885', 'dim_886', 'dim_887', 'dim_888', 'dim_889', 'dim_890', 'dim_891', 'dim_892', 'dim_893', 'dim_894', 'dim_895', 'dim_896', 'dim_897', 'dim_898', 'dim_899', 'dim_900', 'dim_901', 'dim_902', 'dim_903', 'dim_904', 'dim_905', 'dim_906', 'dim_907', 'dim_908', 'dim_909', 'dim_910', 'dim_911', 'dim_912', 'dim_913', 'dim_914', 'dim_915', 'dim_916', 'dim_917', 'dim_918', 'dim_919', 'dim_920', 'dim_921', 'dim_922', 'dim_923', 'dim_924', 'dim_925', 'dim_926', 'dim_927', 'dim_928', 'dim_929', 'dim_930', 'dim_931', 'dim_932', 'dim_933', 'dim_934', 'dim_935', 'dim_936', 'dim_937', 'dim_938', 'dim_939', 'dim_940', 'dim_941', 'dim_942', 'dim_943', 'dim_944', 'dim_945', 'dim_946', 'dim_947', 'dim_948', 'dim_949', 'dim_950', 'dim_951', 'dim_952', 'dim_953', 'dim_954', 'dim_955', 'dim_956', 'dim_957', 'dim_958', 'dim_959', 'dim_960', 'dim_961', 'dim_962', 'dim_963', 'dim_964', 'dim_965', 'dim_966', 'dim_967', 'dim_968', 'dim_969', 'dim_970', 'dim_971', 'dim_972', 'dim_973', 'dim_974', 'dim_975', 'dim_976', 'dim_977', 'dim_978', 'dim_979', 'dim_980', 'dim_981', 'dim_982', 'dim_983', 'dim_984', 'dim_985', 'dim_986', 'dim_987', 'dim_988', 'dim_989', 'dim_990', 'dim_991', 'dim_992', 'dim_993', 'dim_994', 'dim_995', 'dim_996', 'dim_997', 'dim_998', 'dim_999', 'dim_1000', 'dim_1001', 'dim_1002', 'dim_1003', 'dim_1004', 'dim_1005', 'dim_1006', 'dim_1007', 'dim_1008', 'dim_1009', 'dim_1010', 'dim_1011', 'dim_1012', 'dim_1013', 'dim_1014', 'dim_1015', 'dim_1016', 'dim_1017', 'dim_1018', 'dim_1019', 'dim_1020', 'dim_1021', 'dim_1022', 'dim_1023', 'exchange_x', 'ticker_x', 'year1_x', 'greenwash_score_x', 'folder_name', 'hm_perspective_taking', 'hm_length', 'hm_readability_fog', 'hm_readability_flesch_reading_ease', 'hm_readability_smog', 'hm_readability_automated_readability', 'hm_sentiment_polarity', 'hm_sentiment_subjectivity', 'hm_comparative', 'hm_superlative', 'hm_present', 'hm_past', 'hm_future', 'hm_ESGBERT/EnvironmentalBERT-forest_class_0', 'hm_ESGBERT/EnvironmentalBERT-forest_class_1', 'hm_ESGBERT/EnvironmentalBERT-action_class_0', 'hm_ESGBERT/EnvironmentalBERT-action_class_1', 'hm_ESGBERT/EnvironmentalBERT-environmental_class_0', 'hm_ESGBERT/EnvironmentalBERT-environmental_class_1', 'hm_ESGBERT/GovernanceBERT-governance_class_0', 'hm_ESGBERT/GovernanceBERT-governance_class_1', 'hm_ESGBERT/SocialBERT-social_class_0', 'hm_ESGBERT/SocialBERT-social_class_1', 'hm_ESGBERT/EnvironmentalBERT-water_class_0', 'hm_ESGBERT/EnvironmentalBERT-water_class_1', 'hm_ESGBERT/EnvironmentalBERT-biodiversity_class_0', 'hm_ESGBERT/EnvironmentalBERT-biodiversity_class_1', 'exchange_y', 'ticker_y', 'year1_y', 'year2', 'greenwash_score_y']\n"
     ]
    }
   ],
   "source": [
    "print(csr_embeddings_hm_score.columns.to_list())"
   ]
  },
  {
   "cell_type": "code",
   "execution_count": 5,
   "metadata": {},
   "outputs": [],
   "source": [
    "csr_embeddings_hm_score = csr_embeddings_hm_score.drop(columns=[col for col in csr_embeddings_hm_score.columns if col.endswith('_y')])\n",
    "csr_embeddings_hm_score.columns = [col.replace('_x', '') for col in csr_embeddings_hm_score.columns]"
   ]
  },
  {
   "cell_type": "code",
   "execution_count": 6,
   "metadata": {},
   "outputs": [],
   "source": [
    "csr_embeddings_hm_score.to_csv(\n",
    "    \"../greenwashing_prediction/data/CSR_embeddings_handmade_score.csv\",\n",
    "    index=False,\n",
    ")"
   ]
  },
  {
   "cell_type": "code",
   "execution_count": null,
   "metadata": {},
   "outputs": [],
   "source": []
  }
 ],
 "metadata": {
  "kernelspec": {
   "display_name": "csr_env",
   "language": "python",
   "name": "python3"
  },
  "language_info": {
   "codemirror_mode": {
    "name": "ipython",
    "version": 3
   },
   "file_extension": ".py",
   "mimetype": "text/x-python",
   "name": "python",
   "nbconvert_exporter": "python",
   "pygments_lexer": "ipython3",
   "version": "3.11.4"
  }
 },
 "nbformat": 4,
 "nbformat_minor": 2
}
