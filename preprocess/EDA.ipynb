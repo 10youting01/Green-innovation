{
 "cells": [
  {
   "cell_type": "markdown",
   "metadata": {},
   "source": [
    "# 列出所有的報告"
   ]
  },
  {
   "cell_type": "code",
   "execution_count": 2,
   "metadata": {},
   "outputs": [],
   "source": [
    "import pandas as pd"
   ]
  },
  {
   "cell_type": "code",
   "execution_count": 3,
   "metadata": {},
   "outputs": [],
   "source": [
    "hm_NASDAQ_divided = pd.read_csv('../output_dataset/handmade_features_NASDAQ_divided.csv')\n",
    "hm_NYSE_divided = pd.read_csv('../output_dataset/handmade_features_NYSE_divided.csv')"
   ]
  },
  {
   "cell_type": "code",
   "execution_count": 6,
   "metadata": {},
   "outputs": [],
   "source": [
    "report_all = pd.concat([hm_NASDAQ_divided, hm_NYSE_divided], axis=0)\n",
    "report_all = report_all[[\"folder_name\", \"exchange\", \"ticker\", \"year1\",\t\"year2\"]]\n",
    "report_all.sort_values(by=[\"folder_name\", \"exchange\", \"ticker\", \"year1\", \"year2\"], inplace=True)"
   ]
  },
  {
   "cell_type": "code",
   "execution_count": 7,
   "metadata": {},
   "outputs": [],
   "source": [
    "report_all.to_csv('../output_dataset/report_all.csv', index=False)"
   ]
  },
  {
   "cell_type": "markdown",
   "metadata": {},
   "source": [
    "# 算出每一年的報告數量"
   ]
  },
  {
   "cell_type": "code",
   "execution_count": 8,
   "metadata": {},
   "outputs": [],
   "source": [
    "import pandas as pd"
   ]
  },
  {
   "cell_type": "code",
   "execution_count": 9,
   "metadata": {},
   "outputs": [],
   "source": [
    "report_all = pd.read_csv('../output_dataset/report_all.csv')"
   ]
  },
  {
   "cell_type": "code",
   "execution_count": 17,
   "metadata": {},
   "outputs": [],
   "source": [
    "# Calculate the number of report in each year\n",
    "report_all['year1'] = report_all['year1'].astype(str)\n",
    "groupby_year = report_all.groupby(['year1']).size().reset_index(name='count')\n",
    "groupby_year_wide = groupby_year.set_index('year1').T\n",
    "groupby_year_wide.to_csv('../output_dataset/groupby_year.csv', index=False)"
   ]
  },
  {
   "cell_type": "markdown",
   "metadata": {},
   "source": [
    "# 算出每一家公司的 GW score 統計量"
   ]
  },
  {
   "cell_type": "code",
   "execution_count": 57,
   "metadata": {},
   "outputs": [],
   "source": [
    "import pandas as pd\n",
    "import numpy as np"
   ]
  },
  {
   "cell_type": "code",
   "execution_count": 58,
   "metadata": {},
   "outputs": [],
   "source": [
    "report_all = pd.read_csv('../output_dataset/report_all.csv')\n",
    "common_score_ESG_all = pd.read_csv('../CSR_score/common_score_ESG_all.csv')"
   ]
  },
  {
   "cell_type": "code",
   "execution_count": 59,
   "metadata": {},
   "outputs": [],
   "source": [
    "# drop those rows that ticker in common_score_ESG_all not in report_all\n",
    "common_ticker = set(report_all['ticker']) & set(common_score_ESG_all['ticker'])\n",
    "common_score_ESG_with_report = common_score_ESG_all[common_score_ESG_all['ticker'].isin(common_ticker)]\n",
    "report_with_score = report_all[report_all['ticker'].isin(common_ticker)]"
   ]
  },
  {
   "cell_type": "code",
   "execution_count": 65,
   "metadata": {},
   "outputs": [],
   "source": [
    "# find the first year of each ticker\n",
    "ticker_start = report_with_score['ticker'].unique()\n",
    "ticker_start = pd.DataFrame(ticker_start, columns=['ticker'])\n",
    "ticker_start['year1'] = report_with_score.groupby('ticker')['year1'].min().values\n",
    "ticker_start.to_csv('../output_dataset/ticker_start.csv', index=False)"
   ]
  },
  {
   "cell_type": "code",
   "execution_count": 61,
   "metadata": {},
   "outputs": [],
   "source": [
    "common_score_ESG_with_report = common_score_ESG_with_report.replace(0, np.nan)\n",
    "common_score_ESG_with_report = common_score_ESG_with_report.set_index('ticker')\n",
    "\n",
    "ticker_start = ticker_start.set_index('ticker')\n",
    "ticker_start['year1'] = ticker_start['year1'].astype(str)"
   ]
  },
  {
   "cell_type": "code",
   "execution_count": 64,
   "metadata": {},
   "outputs": [],
   "source": [
    "std_result = {}\n",
    "\n",
    "for ticker in ticker_start.index:\n",
    "    start_year = ticker_start.loc[ticker, 'year1']\n",
    "\n",
    "    all_years = common_score_ESG_with_report.columns\n",
    "    valid_years = [y for y in all_years if y >= start_year]\n",
    "    scores = common_score_ESG_with_report.loc[ticker, valid_years].dropna()\n",
    "    std = scores.std()\n",
    "    std_result[ticker] = std\n",
    "\n",
    "std_result = pd.DataFrame.from_dict(std_result, orient='index', columns=['std']).reset_index()\n",
    "std_result.columns = ['ticker', 'std']\n",
    "std_result.to_csv('../output_dataset/std_result.csv', index=False)"
   ]
  },
  {
   "cell_type": "markdown",
   "metadata": {},
   "source": [
    "有一些企業沒有std，是因為有報告的起始年份開始沒有分數"
   ]
  },
  {
   "cell_type": "code",
   "execution_count": null,
   "metadata": {},
   "outputs": [],
   "source": []
  }
 ],
 "metadata": {
  "kernelspec": {
   "display_name": "csr_env",
   "language": "python",
   "name": "python3"
  },
  "language_info": {
   "codemirror_mode": {
    "name": "ipython",
    "version": 3
   },
   "file_extension": ".py",
   "mimetype": "text/x-python",
   "name": "python",
   "nbconvert_exporter": "python",
   "pygments_lexer": "ipython3",
   "version": "3.11.4"
  }
 },
 "nbformat": 4,
 "nbformat_minor": 2
}
