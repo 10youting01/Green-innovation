{
 "cells": [
  {
   "cell_type": "markdown",
   "metadata": {},
   "source": [
    "# 列出所有的報告"
   ]
  },
  {
   "cell_type": "code",
   "execution_count": 2,
   "metadata": {},
   "outputs": [],
   "source": [
    "import pandas as pd"
   ]
  },
  {
   "cell_type": "code",
   "execution_count": 3,
   "metadata": {},
   "outputs": [],
   "source": [
    "hm_NASDAQ_divided = pd.read_csv('../output_dataset/handmade_features_NASDAQ_divided.csv')\n",
    "hm_NYSE_divided = pd.read_csv('../output_dataset/handmade_features_NYSE_divided.csv')"
   ]
  },
  {
   "cell_type": "code",
   "execution_count": 4,
   "metadata": {},
   "outputs": [],
   "source": [
    "report_all = pd.concat([hm_NASDAQ_divided, hm_NYSE_divided], axis=0)\n",
    "report_all = report_all[[\"folder_name\", \"exchange\", \"ticker\", \"year1\",\t\"year2\"]]\n",
    "report_all.sort_values(by=[\"folder_name\", \"exchange\", \"ticker\", \"year1\", \"year2\"], inplace=True)"
   ]
  },
  {
   "cell_type": "code",
   "execution_count": 5,
   "metadata": {},
   "outputs": [
    {
     "data": {
      "text/plain": [
       "6098"
      ]
     },
     "execution_count": 5,
     "metadata": {},
     "output_type": "execute_result"
    }
   ],
   "source": [
    "report_all.to_csv('../output_dataset/report_all.csv', index=False)\n",
    "len(report_all)"
   ]
  },
  {
   "cell_type": "markdown",
   "metadata": {},
   "source": [
    "# 算出每一年的報告數量"
   ]
  },
  {
   "cell_type": "code",
   "execution_count": 8,
   "metadata": {},
   "outputs": [],
   "source": [
    "import pandas as pd"
   ]
  },
  {
   "cell_type": "code",
   "execution_count": 9,
   "metadata": {},
   "outputs": [],
   "source": [
    "report_all = pd.read_csv('../output_dataset/report_all.csv')"
   ]
  },
  {
   "cell_type": "code",
   "execution_count": 17,
   "metadata": {},
   "outputs": [],
   "source": [
    "# Calculate the number of report in each year\n",
    "report_all['year1'] = report_all['year1'].astype(str)\n",
    "groupby_year = report_all.groupby(['year1']).size().reset_index(name='count')\n",
    "groupby_year_wide = groupby_year.set_index('year1').T\n",
    "groupby_year_wide.to_csv('../output_dataset/groupby_year.csv', index=False)"
   ]
  },
  {
   "cell_type": "markdown",
   "metadata": {},
   "source": [
    "## Merge score and report"
   ]
  },
  {
   "cell_type": "code",
   "execution_count": 45,
   "metadata": {},
   "outputs": [],
   "source": [
    "import pandas as pd\n",
    "import numpy as np"
   ]
  },
  {
   "cell_type": "code",
   "execution_count": 46,
   "metadata": {},
   "outputs": [],
   "source": [
    "report_all = pd.read_csv('../output_dataset/report_all.csv')\n",
    "common_score_ESG_all = pd.read_csv('../CSR_score/common_score_ESG_all.csv')"
   ]
  },
  {
   "cell_type": "code",
   "execution_count": 47,
   "metadata": {},
   "outputs": [],
   "source": [
    "# drop those rows that ticker in common_score_ESG_all not in report_all\n",
    "common_ticker = set(report_all['ticker']) & set(common_score_ESG_all['ticker'])\n",
    "common_score_ESG_with_report = common_score_ESG_all[common_score_ESG_all['ticker'].isin(common_ticker)]\n",
    "report_with_score = report_all[report_all['ticker'].isin(common_ticker)]"
   ]
  },
  {
   "cell_type": "code",
   "execution_count": 48,
   "metadata": {},
   "outputs": [
    {
     "name": "stdout",
     "output_type": "stream",
     "text": [
      "\n",
      "🚨 無法在 common_score_ESG_all 中找到的 ticker: {'LOGI', 'SBLK', 'ARNC', 'AHS', 'AAR', 'KEM', 'PANL', 'WF', 'VIST', 'BF', 'PBR', 'DPH', 'MYL', 'GTI', 'SUPV', 'DBRG', 'GSH', 'BVN', 'KB', 'LAZ', 'TSLA', 'CLB', 'DOO', 'CSIQ', 'HASI', 'ALXN', 'MNR', 'SNE', 'NGLS', 'CIT', 'MIC', 'ACH', 'UTX', 'INFO', 'ZMH', 'CUB', 'AZ', 'HDB', 'TETY', 'AMRX', 'RCI', 'MEOH', 'ABEV', 'RDS', 'TVE', 'AU', 'ENIC', 'HON', 'CHT', 'KIM', 'WYND', 'LBTYA', 'LXK', 'PEAK', 'TSE', 'AZPN', 'SHEL', 'CTL', 'PETD', 'IBA', 'ZNH', 'CHL', 'VALE', 'SALT', 'PSA', 'GPS', 'TORM', 'CPIX', 'UUUU', 'DLGS', 'GAM', 'SQM', 'VLRS', 'NHS', 'GOOG', 'WNFM', 'SERV', 'LIN', 'GLOP', 'SGS', 'QVCC', 'CWEN', 'E', 'RELX', 'CINR', 'CRGY', 'LPL', 'KKR', 'Z', 'COLD', 'HPQ', 'JEC', 'FCAU', 'ERIC', 'CRD', 'DBD', 'SPXC', 'LND', 'FMX', 'KNOP', 'FS', 'AGII', 'NBL', 'DPS', 'NVS', 'HFC', 'CMN', 'DNR', 'SYT', 'RDY', 'CAMP', 'SPP', 'TAK', 'SAFM'}\n"
     ]
    },
    {
     "data": {
      "text/html": [
       "<div>\n",
       "<style scoped>\n",
       "    .dataframe tbody tr th:only-of-type {\n",
       "        vertical-align: middle;\n",
       "    }\n",
       "\n",
       "    .dataframe tbody tr th {\n",
       "        vertical-align: top;\n",
       "    }\n",
       "\n",
       "    .dataframe thead th {\n",
       "        text-align: right;\n",
       "    }\n",
       "</style>\n",
       "<table border=\"1\" class=\"dataframe\">\n",
       "  <thead>\n",
       "    <tr style=\"text-align: right;\">\n",
       "      <th></th>\n",
       "      <th>folder_name</th>\n",
       "      <th>exchange</th>\n",
       "      <th>ticker</th>\n",
       "      <th>year1</th>\n",
       "      <th>year2</th>\n",
       "    </tr>\n",
       "  </thead>\n",
       "  <tbody>\n",
       "    <tr>\n",
       "      <th>0</th>\n",
       "      <td>NASDAQ_AAL_2007</td>\n",
       "      <td>NASDAQ</td>\n",
       "      <td>AAL</td>\n",
       "      <td>2007</td>\n",
       "      <td>&lt;NA&gt;</td>\n",
       "    </tr>\n",
       "    <tr>\n",
       "      <th>1</th>\n",
       "      <td>NASDAQ_AAL_2008</td>\n",
       "      <td>NASDAQ</td>\n",
       "      <td>AAL</td>\n",
       "      <td>2008</td>\n",
       "      <td>&lt;NA&gt;</td>\n",
       "    </tr>\n",
       "    <tr>\n",
       "      <th>2</th>\n",
       "      <td>NASDAQ_AAL_2009</td>\n",
       "      <td>NASDAQ</td>\n",
       "      <td>AAL</td>\n",
       "      <td>2009</td>\n",
       "      <td>&lt;NA&gt;</td>\n",
       "    </tr>\n",
       "    <tr>\n",
       "      <th>3</th>\n",
       "      <td>NASDAQ_AAL_2011</td>\n",
       "      <td>NASDAQ</td>\n",
       "      <td>AAL</td>\n",
       "      <td>2011</td>\n",
       "      <td>&lt;NA&gt;</td>\n",
       "    </tr>\n",
       "    <tr>\n",
       "      <th>4</th>\n",
       "      <td>NASDAQ_AAL_2012</td>\n",
       "      <td>NASDAQ</td>\n",
       "      <td>AAL</td>\n",
       "      <td>2012</td>\n",
       "      <td>&lt;NA&gt;</td>\n",
       "    </tr>\n",
       "    <tr>\n",
       "      <th>...</th>\n",
       "      <td>...</td>\n",
       "      <td>...</td>\n",
       "      <td>...</td>\n",
       "      <td>...</td>\n",
       "      <td>...</td>\n",
       "    </tr>\n",
       "    <tr>\n",
       "      <th>6070</th>\n",
       "      <td>NYSE_ZBH_2020</td>\n",
       "      <td>NYSE</td>\n",
       "      <td>ZBH</td>\n",
       "      <td>2020</td>\n",
       "      <td>&lt;NA&gt;</td>\n",
       "    </tr>\n",
       "    <tr>\n",
       "      <th>6071</th>\n",
       "      <td>NYSE_ZBH_2021</td>\n",
       "      <td>NYSE</td>\n",
       "      <td>ZBH</td>\n",
       "      <td>2021</td>\n",
       "      <td>&lt;NA&gt;</td>\n",
       "    </tr>\n",
       "    <tr>\n",
       "      <th>6072</th>\n",
       "      <td>NYSE_ZEN_2019</td>\n",
       "      <td>NYSE</td>\n",
       "      <td>ZEN</td>\n",
       "      <td>2019</td>\n",
       "      <td>&lt;NA&gt;</td>\n",
       "    </tr>\n",
       "    <tr>\n",
       "      <th>6073</th>\n",
       "      <td>NYSE_ZEN_2020</td>\n",
       "      <td>NYSE</td>\n",
       "      <td>ZEN</td>\n",
       "      <td>2020</td>\n",
       "      <td>&lt;NA&gt;</td>\n",
       "    </tr>\n",
       "    <tr>\n",
       "      <th>6074</th>\n",
       "      <td>NYSE_ZEN_2021</td>\n",
       "      <td>NYSE</td>\n",
       "      <td>ZEN</td>\n",
       "      <td>2021</td>\n",
       "      <td>&lt;NA&gt;</td>\n",
       "    </tr>\n",
       "  </tbody>\n",
       "</table>\n",
       "<p>5461 rows × 5 columns</p>\n",
       "</div>"
      ],
      "text/plain": [
       "          folder_name exchange ticker  year1  year2\n",
       "0     NASDAQ_AAL_2007   NASDAQ    AAL   2007   <NA>\n",
       "1     NASDAQ_AAL_2008   NASDAQ    AAL   2008   <NA>\n",
       "2     NASDAQ_AAL_2009   NASDAQ    AAL   2009   <NA>\n",
       "3     NASDAQ_AAL_2011   NASDAQ    AAL   2011   <NA>\n",
       "4     NASDAQ_AAL_2012   NASDAQ    AAL   2012   <NA>\n",
       "...               ...      ...    ...    ...    ...\n",
       "6070    NYSE_ZBH_2020     NYSE    ZBH   2020   <NA>\n",
       "6071    NYSE_ZBH_2021     NYSE    ZBH   2021   <NA>\n",
       "6072    NYSE_ZEN_2019     NYSE    ZEN   2019   <NA>\n",
       "6073    NYSE_ZEN_2020     NYSE    ZEN   2020   <NA>\n",
       "6074    NYSE_ZEN_2021     NYSE    ZEN   2021   <NA>\n",
       "\n",
       "[5461 rows x 5 columns]"
      ]
     },
     "execution_count": 48,
     "metadata": {},
     "output_type": "execute_result"
    }
   ],
   "source": [
    "# 確保 ticker 格式一致（去除空格 & 轉大寫）\n",
    "report_all['ticker'] = report_all['ticker'].str.strip().str.upper()\n",
    "common_score_ESG_all['ticker'] = common_score_ESG_all['ticker'].str.strip().str.upper()\n",
    "\n",
    "# 把 year1 和 year2 如果不為空就轉成整數格式\n",
    "report_all['year1'] = report_all['year1'].replace('', np.nan).astype(float).astype('Int64')\n",
    "report_all['year2'] = report_all['year2'].replace('', np.nan).astype(float).astype('Int64')\n",
    "\n",
    "# 找出 missing_tickers\n",
    "missing_tickers = set(report_all['ticker'].unique()) - set(common_score_ESG_all['ticker'].unique())\n",
    "print(\"\\n🚨 無法在 common_score_ESG_all 中找到的 ticker:\", missing_tickers)\n",
    "\n",
    "# 移除 `missing_tickers`，只保留 common_score_ESG_all 有的 ticker\n",
    "filtered_report_all = report_all[~report_all['ticker'].isin(missing_tickers)].copy()\n",
    "filtered_report_all"
   ]
  },
  {
   "cell_type": "code",
   "execution_count": 49,
   "metadata": {},
   "outputs": [],
   "source": [
    "# 轉換 common_score 為 long format\n",
    "common_score_long = common_score_ESG_all.melt(id_vars=['ticker'], var_name='year', value_name='GWscore')\n",
    "common_score_long['year'] = common_score_long['year'].astype(int)  # 確保 year 是 int\n",
    "\n",
    "# 合併 year1 的 GWscore\n",
    "filtered_report_all = report_all.merge(\n",
    "    common_score_long, left_on=['ticker', 'year1'], right_on=['ticker', 'year'], how='left'\n",
    ")\n",
    "filtered_report_all.rename(columns={'GWscore': 'GWscore_year1'}, inplace=True)\n",
    "filtered_report_all.drop(columns=['year'], inplace=True)\n",
    "\n",
    "# 合併 year2 的 GWscore\n",
    "filtered_report_all = filtered_report_all.merge(\n",
    "    common_score_long, left_on=['ticker', 'year2'], right_on=['ticker', 'year'], how='left'\n",
    ")\n",
    "filtered_report_all.rename(columns={'GWscore': 'GWscore_year2'}, inplace=True)\n",
    "filtered_report_all.drop(columns=['year'], inplace=True)\n",
    "\n",
    "# 若 year2 是空，則使用 year1 分數；否則取兩者平均\n",
    "filtered_report_all['GWscore_final'] = filtered_report_all.apply(\n",
    "    lambda row: row['GWscore_year1'] if pd.isna(row['year2']) or row['year2'] == '' \n",
    "    else (row['GWscore_year1'] + row['GWscore_year2']) / 2,\n",
    "    axis=1\n",
    ")\n",
    "\n",
    "filtered_report_all.rename(columns={'GWscore_final': 'greenwash_score'}, inplace=True)\n",
    "filtered_report_all.drop(columns=['GWscore_year1', 'GWscore_year2'], inplace=True)\n",
    "filtered_report_all.dropna(subset=['greenwash_score'], inplace=True)"
   ]
  },
  {
   "cell_type": "code",
   "execution_count": 51,
   "metadata": {},
   "outputs": [],
   "source": [
    "filtered_report_all.to_csv('../output_dataset/report_all_with_score.csv', index=False)"
   ]
  },
  {
   "cell_type": "markdown",
   "metadata": {},
   "source": [
    "# 算出每一家公司的 GW score 統計量"
   ]
  },
  {
   "cell_type": "code",
   "execution_count": null,
   "metadata": {},
   "outputs": [],
   "source": [
    "import pandas as pd\n",
    "import numpy as np"
   ]
  },
  {
   "cell_type": "code",
   "execution_count": null,
   "metadata": {},
   "outputs": [],
   "source": [
    "report_all = pd.read_csv('../output_dataset/report_all.csv')\n",
    "common_score_ESG_all = pd.read_csv('../CSR_score/common_score_ESG_all.csv')"
   ]
  },
  {
   "cell_type": "code",
   "execution_count": null,
   "metadata": {},
   "outputs": [],
   "source": [
    "# drop those rows that ticker in common_score_ESG_all not in report_all\n",
    "common_ticker = set(report_all['ticker']) & set(common_score_ESG_all['ticker'])\n",
    "common_score_ESG_with_report = common_score_ESG_all[common_score_ESG_all['ticker'].isin(common_ticker)]\n",
    "report_with_score = report_all[report_all['ticker'].isin(common_ticker)]"
   ]
  },
  {
   "cell_type": "code",
   "execution_count": 65,
   "metadata": {},
   "outputs": [],
   "source": [
    "# find the first year of each ticker\n",
    "ticker_start = report_with_score['ticker'].unique()\n",
    "ticker_start = pd.DataFrame(ticker_start, columns=['ticker'])\n",
    "ticker_start['year1'] = report_with_score.groupby('ticker')['year1'].min().values\n",
    "ticker_start.to_csv('../output_dataset/ticker_start.csv', index=False)"
   ]
  },
  {
   "cell_type": "code",
   "execution_count": 61,
   "metadata": {},
   "outputs": [],
   "source": [
    "common_score_ESG_with_report = common_score_ESG_with_report.replace(0, np.nan)\n",
    "common_score_ESG_with_report = common_score_ESG_with_report.set_index('ticker')\n",
    "\n",
    "ticker_start = ticker_start.set_index('ticker')\n",
    "ticker_start['year1'] = ticker_start['year1'].astype(str)"
   ]
  },
  {
   "cell_type": "code",
   "execution_count": 64,
   "metadata": {},
   "outputs": [],
   "source": [
    "std_result = {}\n",
    "\n",
    "for ticker in ticker_start.index:\n",
    "    start_year = ticker_start.loc[ticker, 'year1']\n",
    "\n",
    "    all_years = common_score_ESG_with_report.columns\n",
    "    valid_years = [y for y in all_years if y >= start_year]\n",
    "    scores = common_score_ESG_with_report.loc[ticker, valid_years].dropna()\n",
    "    std = scores.std()\n",
    "    std_result[ticker] = std\n",
    "\n",
    "std_result = pd.DataFrame.from_dict(std_result, orient='index', columns=['std']).reset_index()\n",
    "std_result.columns = ['ticker', 'std']\n",
    "std_result.to_csv('../output_dataset/std_result.csv', index=False)"
   ]
  },
  {
   "cell_type": "markdown",
   "metadata": {},
   "source": [
    "有一些企業沒有std，是因為有報告的起始年份開始沒有分數"
   ]
  },
  {
   "cell_type": "markdown",
   "metadata": {},
   "source": [
    "# Describe of GW score std "
   ]
  },
  {
   "cell_type": "code",
   "execution_count": 66,
   "metadata": {},
   "outputs": [],
   "source": [
    "import pandas as pd\n",
    "import numpy as np"
   ]
  },
  {
   "cell_type": "code",
   "execution_count": 67,
   "metadata": {},
   "outputs": [],
   "source": [
    "std_result = pd.read_csv('../output_dataset/std_result.csv')"
   ]
  },
  {
   "cell_type": "code",
   "execution_count": 68,
   "metadata": {},
   "outputs": [
    {
     "data": {
      "text/plain": [
       "count    999.000000\n",
       "mean       6.412693\n",
       "std        4.310507\n",
       "min        0.173531\n",
       "25%        3.647040\n",
       "50%        5.544497\n",
       "75%        7.858265\n",
       "max       38.497985\n",
       "Name: std, dtype: float64"
      ]
     },
     "execution_count": 68,
     "metadata": {},
     "output_type": "execute_result"
    }
   ],
   "source": [
    "std_result['std'].describe()"
   ]
  },
  {
   "cell_type": "code",
   "execution_count": null,
   "metadata": {},
   "outputs": [],
   "source": []
  }
 ],
 "metadata": {
  "kernelspec": {
   "display_name": "csr_env",
   "language": "python",
   "name": "python3"
  },
  "language_info": {
   "codemirror_mode": {
    "name": "ipython",
    "version": 3
   },
   "file_extension": ".py",
   "mimetype": "text/x-python",
   "name": "python",
   "nbconvert_exporter": "python",
   "pygments_lexer": "ipython3",
   "version": "3.11.4"
  }
 },
 "nbformat": 4,
 "nbformat_minor": 2
}
