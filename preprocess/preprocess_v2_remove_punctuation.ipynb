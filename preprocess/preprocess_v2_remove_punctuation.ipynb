{
 "cells": [
  {
   "cell_type": "code",
   "execution_count": 18,
   "metadata": {},
   "outputs": [],
   "source": [
    "import json\n",
    "import re\n",
    "import os\n",
    "import string\n",
    "import numpy as np"
   ]
  },
  {
   "cell_type": "code",
   "execution_count": 19,
   "metadata": {},
   "outputs": [],
   "source": [
    "def clean_text(text):\n",
    "    # 移除換行符號\n",
    "    text = text.replace(\"\\n\", \" \").replace(\"\\r\", \" \")\n",
    "\n",
    "    # 移除特殊字符\n",
    "    text = re.sub(r\"[^a-zA-Z0-9.,!?%$€£-]\", \" \", text)\n",
    "\n",
    "    # 移除多餘空格\n",
    "    text = re.sub(r\"\\s+\", \" \", text).strip()\n",
    "    \n",
    "    return text"
   ]
  },
  {
   "cell_type": "code",
   "execution_count": 20,
   "metadata": {},
   "outputs": [],
   "source": [
    "def process_all(base_path):\n",
    "    for folder_name in os.listdir(base_path):\n",
    "        folder_path = os.path.join(base_path, folder_name)\n",
    "\n",
    "        if os.path.isdir(folder_path):  # 確保是資料夾\n",
    "            json_path = os.path.join(folder_path, f\"{folder_name}_v1_preprocessed_tool.json\")\n",
    "            output_json_path = os.path.join(folder_path, f\"{folder_name}_v2_remove_punctuation.json\")\n",
    "\n",
    "            # 檢查是否已處理過\n",
    "            if os.path.exists(output_json_path):\n",
    "                print(f\"Skipping {folder_name}, already processed.\")\n",
    "                continue\n",
    "\n",
    "            if os.path.exists(json_path):\n",
    "                # 讀取 JSON 檔案\n",
    "                with open(json_path, \"r\", encoding=\"utf-8\") as f:\n",
    "                    data = json.load(f)\n",
    "\n",
    "                # 清理 JSON 內容\n",
    "                cleaned_data = {key: clean_text(value) for key, value in data.items()}\n",
    "\n",
    "                # 寫入新 JSON 檔案\n",
    "                with open(output_json_path, \"w\", encoding=\"utf-8\") as f:\n",
    "                    json.dump(cleaned_data, f, indent=4, ensure_ascii=False)\n",
    "\n",
    "                print(f\"Processed: {folder_name}\")"
   ]
  },
  {
   "cell_type": "code",
   "execution_count": null,
   "metadata": {},
   "outputs": [],
   "source": [
    "base_path = os.path.abspath(\"/home/francia/research_hub/csr_project/CSR_report_processed_v4/CSR_report_new_collect\")\n",
    "process_all(base_path)"
   ]
  },
  {
   "cell_type": "code",
   "execution_count": null,
   "metadata": {},
   "outputs": [],
   "source": [
    "# import os\n",
    "\n",
    "# def process_specific(folder_path):\n",
    "#     folder_name = os.path.basename(folder_path)\n",
    "#     json_path = os.path.join(folder_path, f\"{folder_name}_v1_preprocessed_tool.json\")\n",
    "#     output_json_path = os.path.join(folder_path, f\"{folder_name}_v2_remove_punctuation.json\")\n",
    "#     print(f\"Processing: {folder_name}\")\n",
    "#     print(f\"New JSON path: {json_path}\")\n",
    "#     print(f\"Output JSON path: {output_json_path}\")\n",
    "\n",
    "#     if os.path.exists(output_json_path):\n",
    "#         print(f\"Skipping {folder_name}, already processed.\")\n",
    "#         return\n",
    "\n",
    "#     if os.path.exists(json_path):\n",
    "#         # 讀取 JSON 檔案\n",
    "#         with open(json_path, \"r\", encoding=\"utf-8\") as f:\n",
    "#             data = json.load(f)\n",
    "#         cleaned_data = {key: clean_text(value) for key, value in data.items()}\n",
    "#         with open(output_json_path, \"w\", encoding=\"utf-8\") as f:\n",
    "#             json.dump(cleaned_data, f, indent=4, ensure_ascii=False)\n",
    "\n",
    "#             print(f\"Processed: {folder_name}\")"
   ]
  },
  {
   "cell_type": "code",
   "execution_count": null,
   "metadata": {},
   "outputs": [
    {
     "name": "stdout",
     "output_type": "stream",
     "text": [
      "Processing: NASDAQ_AMD_2012_2013\n",
      "New JSON path: /home/francia/research_hub/csr_project/CSR_report_processed_v4/NASDAQ/NASDAQ_AMD_2012_2013/NASDAQ_AMD_2012_2013_v1_preprocessed_tool.json\n",
      "Output JSON path: /home/francia/research_hub/csr_project/CSR_report_processed_v4/NASDAQ/NASDAQ_AMD_2012_2013/NASDAQ_AMD_2012_2013_v2_remove_punctuation.json\n",
      "Processed: NASDAQ_AMD_2012_2013\n"
     ]
    }
   ],
   "source": [
    "# specific_path = os.path.abspath(\"/home/francia/research_hub/csr_project/CSR_report_processed_v4/NASDAQ/NASDAQ_AMD_2012_2013\")\n",
    "# process_specific(specific_path)"
   ]
  }
 ],
 "metadata": {
  "kernelspec": {
   "display_name": "csr_env",
   "language": "python",
   "name": "csr_env"
  },
  "language_info": {
   "codemirror_mode": {
    "name": "ipython",
    "version": 3
   },
   "file_extension": ".py",
   "mimetype": "text/x-python",
   "name": "python",
   "nbconvert_exporter": "python",
   "pygments_lexer": "ipython3",
   "version": "3.11.4"
  }
 },
 "nbformat": 4,
 "nbformat_minor": 2
}
