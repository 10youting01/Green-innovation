{
 "cells": [
  {
   "cell_type": "code",
   "execution_count": 9,
   "metadata": {},
   "outputs": [],
   "source": [
    "import pandas as pd"
   ]
  },
  {
   "cell_type": "code",
   "execution_count": 10,
   "metadata": {},
   "outputs": [],
   "source": [
    "bloomberg_not_include_score_processed = pd.read_csv('../CSR_score/bloomber_tickers_esg_disclosure_score_1009.csv')\n",
    "refinitiv_ESG_score = pd.read_csv('../CSR_score/refinitiv_ESG_score_100.csv')"
   ]
  },
  {
   "cell_type": "code",
   "execution_count": null,
   "metadata": {},
   "outputs": [],
   "source": [
    "def compare_and_export(df1, df2, common_years, output_path=None):\n",
    "    # 過濾只包含 ticker 與指定年份\n",
    "    df1_filtered = df1[['ticker'] + common_years]\n",
    "    df2_filtered = df2[['ticker'] + common_years]\n",
    "\n",
    "    # 進行 merge（確保 'ticker' 是共同鍵）\n",
    "    merged = df1_filtered.merge(df2_filtered, on='ticker', suffixes=('_df1', '_df2'))\n",
    "\n",
    "    # 計算年份差異\n",
    "    for year in common_years:\n",
    "        col_df1 = f\"{year}_df1\"\n",
    "        col_df2 = f\"{year}_df2\"\n",
    "\n",
    "        merged[year] = merged.apply(lambda row: 0 if row[col_df1] in {0, -1} or row[col_df2] in {0, -1}\n",
    "                                    else row[col_df1] - row[col_df2], axis=1)\n",
    "\n",
    "    # 只保留 ticker 和計算結果\n",
    "    merged = merged[['ticker'] + common_years]\n",
    "\n",
    "    # 如果提供了輸出路徑，則存為 CSV\n",
    "    if output_path:\n",
    "        merged.to_csv(output_path, index=False)\n",
    "        print(f\"結果已儲存至 {output_path}\")\n",
    "\n",
    "    return merged"
   ]
  },
  {
   "cell_type": "code",
   "execution_count": 13,
   "metadata": {},
   "outputs": [
    {
     "name": "stdout",
     "output_type": "stream",
     "text": [
      "結果已儲存至 ../CSR_score/common_score_ESG_1009.csv\n",
      "  ticker       2005      2006       2007      2008       2009       2010  \\\n",
      "0    AAL -21.859142 -3.090015 -32.270374 -42.85253 -38.978609 -48.721519   \n",
      "1   ACAD   0.000000  0.000000   0.000000   0.00000   0.000000   0.000000   \n",
      "2    ACI   0.000000  0.000000   0.000000   0.00000   0.000000   0.000000   \n",
      "3    AGI   0.000000  0.000000   0.000000   0.00000   0.000000  17.508158   \n",
      "4    AJX   0.000000  0.000000   0.000000   0.00000   0.000000   0.000000   \n",
      "\n",
      "        2011       2012       2013  ...       2015       2016       2017  \\\n",
      "0 -51.990725 -55.278625 -51.441634  ... -32.727042 -29.976215 -19.834347   \n",
      "1   0.000000   0.000000   0.000000  ...   9.796640  13.586094   3.548823   \n",
      "2   0.000000   0.000000   0.000000  ...   0.000000   0.000000   0.000000   \n",
      "3  18.573775  14.407252   8.854204  ...  17.503876   9.511703  14.953062   \n",
      "4   0.000000   0.000000   0.000000  ...   0.000000  26.908100  27.196394   \n",
      "\n",
      "        2018       2019       2020       2021       2022       2023  2024  \n",
      "0 -20.556871 -19.166368 -20.265235 -18.718876 -14.643682   0.000000   0.0  \n",
      "1   8.044382 -16.475882  -9.181354  -6.836464 -10.374193   0.000000   0.0  \n",
      "2   0.000000   0.000000   0.000000   3.042548   5.221862   6.698119   0.0  \n",
      "3  17.888528  37.170845  51.829211  51.251980  55.735100   0.000000   0.0  \n",
      "4  25.064360  24.249463  21.607092  20.829936  18.148456  21.460114   0.0  \n",
      "\n",
      "[5 rows x 21 columns]\n"
     ]
    }
   ],
   "source": [
    "# 兩個 DataFrame（例如 Bloomberg & Refinitiv 的 ESG 資料）\n",
    "common_years = [str(year) for year in range(2005, 2025)]\n",
    "\n",
    "result = compare_and_export(\n",
    "    bloomberg_not_include_score_processed,  # 第一個 DataFrame\n",
    "    refinitiv_ESG_score,                    # 第二個 DataFrame\n",
    "    common_years,\n",
    "    output_path='../CSR_score/common_score_ESG_1009.csv'  # 可選\n",
    ")\n",
    "\n",
    "# 如果不想存成 CSV，而是直接取得 DataFrame\n",
    "print(result.head())"
   ]
  },
  {
   "cell_type": "code",
   "execution_count": 19,
   "metadata": {},
   "outputs": [],
   "source": [
    "common_score_ESG_0319 = pd.read_csv('../CSR_score/common_score_ESG_0319.csv')\n",
    "common_score_ESG_1009 = pd.read_csv('../CSR_score/common_score_ESG_1009.csv')"
   ]
  },
  {
   "cell_type": "code",
   "execution_count": null,
   "metadata": {},
   "outputs": [],
   "source": [
    "common_score_ESG_all = pd.concat([common_score_ESG_0319, common_score_ESG_1009], ignore_index=True)\n",
    "common_score_ESG_all = common_score_ESG_all.groupby('ticker', as_index=False).first()\n",
    "common_score_ESG_all.to_csv('../CSR_score/common_score_ESG_all.csv', index=False)\n",
    "# first: means keep 0319 data (the newer one) if there are duplicate tickers"
   ]
  },
  {
   "cell_type": "code",
   "execution_count": null,
   "metadata": {},
   "outputs": [],
   "source": []
  }
 ],
 "metadata": {
  "kernelspec": {
   "display_name": "csr_env",
   "language": "python",
   "name": "csr_env"
  },
  "language_info": {
   "codemirror_mode": {
    "name": "ipython",
    "version": 3
   },
   "file_extension": ".py",
   "mimetype": "text/x-python",
   "name": "python",
   "nbconvert_exporter": "python",
   "pygments_lexer": "ipython3",
   "version": "3.11.4"
  }
 },
 "nbformat": 4,
 "nbformat_minor": 2
}
