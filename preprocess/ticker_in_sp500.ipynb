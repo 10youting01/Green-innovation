{
 "cells": [
  {
   "cell_type": "code",
   "execution_count": 8,
   "metadata": {},
   "outputs": [],
   "source": [
    "import pandas as pd"
   ]
  },
  {
   "cell_type": "code",
   "execution_count": 9,
   "metadata": {},
   "outputs": [],
   "source": [
    "report_ticker = pd.read_csv('../CSR_score/report_ticker.csv')\n",
    "SP500 = pd.read_csv('../CSR_score/SP500.csv')"
   ]
  },
  {
   "cell_type": "code",
   "execution_count": 12,
   "metadata": {},
   "outputs": [],
   "source": [
    "#find out the companies in report_ticker that are also in SP500\n",
    "report_ticker['in_SP500'] = report_ticker['ticker'].isin(SP500['ticker'])\n",
    "report_ticker_in_SP500 = report_ticker[report_ticker['in_SP500'] == True]\n",
    "report_ticker_in_SP500.to_csv('report_ticker_in_SP500.csv', index=False)"
   ]
  },
  {
   "cell_type": "code",
   "execution_count": null,
   "metadata": {},
   "outputs": [],
   "source": []
  }
 ],
 "metadata": {
  "kernelspec": {
   "display_name": "csr_env",
   "language": "python",
   "name": "csr_env"
  },
  "language_info": {
   "codemirror_mode": {
    "name": "ipython",
    "version": 3
   },
   "file_extension": ".py",
   "mimetype": "text/x-python",
   "name": "python",
   "nbconvert_exporter": "python",
   "pygments_lexer": "ipython3",
   "version": "3.11.4"
  }
 },
 "nbformat": 4,
 "nbformat_minor": 2
}
