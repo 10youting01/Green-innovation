{
 "cells": [
  {
   "cell_type": "code",
   "execution_count": 20,
   "metadata": {},
   "outputs": [],
   "source": [
    "import spacy\n",
    "import pandas as pd\n",
    "import json\n",
    "import os\n",
    "from collections import Counter\n",
    "\n",
    "def analyze_tense_and_comparison(json_paths, output_csv=\"tense_comparison_analysis.csv\"):\n",
    "    # 加载 spaCy 的英語模型\n",
    "    nlp = spacy.load(\"en_core_web_sm\")\n",
    "\n",
    "    # 定義時態關鍵詞\n",
    "    past_tense_tags = {\"VBD\", \"VBN\"}\n",
    "    present_tense_tags = {\"VBZ\", \"VBP\", \"VBG\"}\n",
    "    future_tense_keywords = {\"will\", \"shall\", \"going to\"}\n",
    "    comparison_tags = {\"JJR\"}  # 比較級\n",
    "    superlative_tags = {\"JJS\"}  # 最高級\n",
    "\n",
    "    # 初始化存儲結果的列表\n",
    "    results = []\n",
    "\n",
    "    for json_path in json_paths:\n",
    "        try:\n",
    "            # 讀取 JSON 文件\n",
    "            with open(json_path, \"r\", encoding=\"utf-8\") as f:\n",
    "                text_data = json.load(f)\n",
    "\n",
    "            # 合併文本內容\n",
    "            text = \" \".join(text_data.values())\n",
    "\n",
    "            # 解析文本\n",
    "            doc = nlp(text)\n",
    "\n",
    "            # 計數器\n",
    "            tense_counts = Counter()\n",
    "            comparison_counts = Counter()\n",
    "\n",
    "            # 遍歷 tokens\n",
    "            for token in doc:\n",
    "                # 時態標註\n",
    "                if token.tag_ in past_tense_tags:\n",
    "                    tense_counts[\"past\"] += 1\n",
    "                elif token.tag_ in present_tense_tags:\n",
    "                    tense_counts[\"present\"] += 1\n",
    "                elif token.text.lower() in future_tense_keywords:\n",
    "                    tense_counts[\"future\"] += 1\n",
    "\n",
    "                # 比較級與最高級標註\n",
    "                if token.tag_ in comparison_tags:\n",
    "                    comparison_counts[\"comparative\"] += 1\n",
    "                elif token.tag_ in superlative_tags:\n",
    "                    comparison_counts[\"superlative\"] += 1\n",
    "\n",
    "            # 儲存當前 JSON 文件的分析結果\n",
    "            results.append({\n",
    "                \"file_name\": os.path.basename(json_path),\n",
    "                \"comparative\": comparison_counts[\"comparative\"],\n",
    "                \"superlative\": comparison_counts[\"superlative\"],\n",
    "                \"present\": tense_counts[\"present\"],\n",
    "                \"past\": tense_counts[\"past\"],\n",
    "                \"future\": tense_counts[\"future\"],\n",
    "            })\n",
    "\n",
    "        except Exception as e:\n",
    "            print(f\"處理 {json_path} 時發生錯誤: {e}\")\n",
    "\n",
    "    # 建立 DataFrame\n",
    "    df = pd.DataFrame(results)\n",
    "\n",
    "    # 儲存為 CSV\n",
    "    df.to_csv(output_csv, index=False)\n",
    "\n",
    "    print(f\"分析完成，結果已儲存至 {output_csv}\")\n",
    "    return df"
   ]
  },
  {
   "cell_type": "code",
   "execution_count": 21,
   "metadata": {},
   "outputs": [
    {
     "name": "stdout",
     "output_type": "stream",
     "text": [
      "分析完成，結果已儲存至 tense_comparison_analysis.csv\n",
      "                                file_name  comparative  superlative  present  \\\n",
      "0  NYSE_A_2004_v2_remove_punctuation.json           62           24     1802   \n",
      "1  NYSE_A_2005_v2_remove_punctuation.json           35           14      830   \n",
      "\n",
      "   past  future  \n",
      "0  1549      24  \n",
      "1   640      14  \n"
     ]
    }
   ],
   "source": [
    "# 使用示例\n",
    "json_paths = [\n",
    "    \"/home/francia/research_hub/csr_project/CSR_report_processed_v4/NYSE/NYSE_A_2004/NYSE_A_2004_v2_remove_punctuation.json\",\n",
    "    \"/home/francia/research_hub/csr_project/CSR_report_processed_v4/NYSE/NYSE_A_2005/NYSE_A_2005_v2_remove_punctuation.json\",\n",
    "]\n",
    "df_result = analyze_tense_and_comparison(json_paths)\n",
    "print(df_result)"
   ]
  },
  {
   "cell_type": "code",
   "execution_count": null,
   "metadata": {},
   "outputs": [],
   "source": []
  }
 ],
 "metadata": {
  "kernelspec": {
   "display_name": "csr_env",
   "language": "python",
   "name": "csr_env"
  },
  "language_info": {
   "codemirror_mode": {
    "name": "ipython",
    "version": 3
   },
   "file_extension": ".py",
   "mimetype": "text/x-python",
   "name": "python",
   "nbconvert_exporter": "python",
   "pygments_lexer": "ipython3",
   "version": "3.11.4"
  }
 },
 "nbformat": 4,
 "nbformat_minor": 2
}
