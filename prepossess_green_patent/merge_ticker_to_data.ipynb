{
 "cells": [
  {
   "cell_type": "markdown",
   "id": "1137f506",
   "metadata": {},
   "source": [
    "# Merge permno_cusip_ticker_permco and crsp_comp_bdx to get gvkey in it"
   ]
  },
  {
   "cell_type": "code",
   "execution_count": 38,
   "id": "ad3c8e14",
   "metadata": {},
   "outputs": [],
   "source": [
    "import pandas as pd"
   ]
  },
  {
   "cell_type": "code",
   "execution_count": 39,
   "id": "543d9e1d",
   "metadata": {},
   "outputs": [],
   "source": [
    "# read the xlsx file\n",
    "gvkey = pd.read_csv('/opt/hdd_1/research_hub/csr_project/Green_patent_dataset/original_dataset/CRSP_COMP_BDX_GVKEY.csv')\n",
    "permco = pd.read_csv(\"/opt/hdd_1/research_hub/csr_project/Green_patent_dataset/original_dataset/PERMNO_CUSIP_TICKER_PERMCO.csv\")"
   ]
  },
  {
   "cell_type": "code",
   "execution_count": 40,
   "id": "aa691fb7",
   "metadata": {},
   "outputs": [
    {
     "name": "stdout",
     "output_type": "stream",
     "text": [
      "gvkey shape:  (11843, 6)\n",
      "permco shape:  (187338, 18)\n"
     ]
    }
   ],
   "source": [
    "print(\"gvkey shape: \",gvkey.shape)\n",
    "print(\"permco shape: \",permco.shape)"
   ]
  },
  {
   "cell_type": "code",
   "execution_count": 41,
   "id": "a7fc3fc3",
   "metadata": {},
   "outputs": [
    {
     "name": "stdout",
     "output_type": "stream",
     "text": [
      "gvkey columns:  Index(['COMPANYID', 'PERMCO', 'GVKEY', 'SCORE', 'PREFERRED', 'DUPLICATE'], dtype='object')\n",
      "permco columns:  Index(['PERMNO', 'FSYM_ID', 'FSYM_ID_KIND', 'PROPER_NAME', 'FSYM_REGIONAL_ID',\n",
      "       'FSYM_SECURITY_ID', 'FS_PERM_SEC_ID', 'FACTSET_ENTITY_ID',\n",
      "       'ENTITY_PROPER_NAME', 'CUSIP_FS', 'TICKER_EXCHANGE', 'PERMCO', 'CUSIP',\n",
      "       'NCUSIP', 'TICKER', 'COMNAM', 'LINK_BDATE', 'LINK_EDATE'],\n",
      "      dtype='object')\n"
     ]
    }
   ],
   "source": [
    "print(\"gvkey columns: \",gvkey.columns)\n",
    "print(\"permco columns: \",permco.columns)"
   ]
  },
  {
   "cell_type": "code",
   "execution_count": 42,
   "id": "9c20142f",
   "metadata": {},
   "outputs": [],
   "source": [
    "# Step 0: 篩選欄位 & 移除重複列\n",
    "permco_less = permco[[\n",
    "    'PERMNO', 'PROPER_NAME', 'ENTITY_PROPER_NAME', 'CUSIP_FS',\n",
    "    'TICKER_EXCHANGE', 'PERMCO', 'CUSIP', 'NCUSIP', 'TICKER',\n",
    "    'COMNAM', 'LINK_BDATE', 'LINK_EDATE'\n",
    "]].copy()\n",
    "\n",
    "permco_less.drop_duplicates(inplace=True)\n",
    "\n",
    "# Step 1: 確保 LINK_EDATE 是數值型別（避免 NaN 比較出錯）\n",
    "permco_less['LINK_EDATE'] = pd.to_numeric(permco_less['LINK_EDATE'], errors='coerce')\n",
    "\n",
    "# Step 2: 根據 PERMNO 保留 LINK_EDATE 最大的那一筆\n",
    "latest_permco = permco_less.loc[\n",
    "    permco_less.groupby('PERMNO')['LINK_EDATE'].idxmax()\n",
    "].reset_index(drop=True)"
   ]
  },
  {
   "cell_type": "code",
   "execution_count": 44,
   "id": "aaf2cec7",
   "metadata": {},
   "outputs": [
    {
     "data": {
      "text/html": [
       "<div>\n",
       "<style scoped>\n",
       "    .dataframe tbody tr th:only-of-type {\n",
       "        vertical-align: middle;\n",
       "    }\n",
       "\n",
       "    .dataframe tbody tr th {\n",
       "        vertical-align: top;\n",
       "    }\n",
       "\n",
       "    .dataframe thead th {\n",
       "        text-align: right;\n",
       "    }\n",
       "</style>\n",
       "<table border=\"1\" class=\"dataframe\">\n",
       "  <thead>\n",
       "    <tr style=\"text-align: right;\">\n",
       "      <th></th>\n",
       "      <th>PERMNO</th>\n",
       "      <th>PROPER_NAME</th>\n",
       "      <th>ENTITY_PROPER_NAME</th>\n",
       "      <th>CUSIP_FS</th>\n",
       "      <th>PERMCO</th>\n",
       "      <th>CUSIP</th>\n",
       "      <th>NCUSIP</th>\n",
       "      <th>TICKER</th>\n",
       "      <th>COMNAM</th>\n",
       "      <th>EXCHANGE</th>\n",
       "    </tr>\n",
       "  </thead>\n",
       "  <tbody>\n",
       "    <tr>\n",
       "      <th>0</th>\n",
       "      <td>10002</td>\n",
       "      <td>BancTrust Financial Group Inc.</td>\n",
       "      <td>BancTrust Financial Group, Inc.</td>\n",
       "      <td>05978R107</td>\n",
       "      <td>7954</td>\n",
       "      <td>05978R10</td>\n",
       "      <td>05978R10</td>\n",
       "      <td>BTFG</td>\n",
       "      <td>BANCTRUST FINANCIAL GROUP INC</td>\n",
       "      <td>NAS</td>\n",
       "    </tr>\n",
       "    <tr>\n",
       "      <th>1</th>\n",
       "      <td>10003</td>\n",
       "      <td>Great Ctry Bank Ansonia Ct</td>\n",
       "      <td>NaN</td>\n",
       "      <td>390318103</td>\n",
       "      <td>7957</td>\n",
       "      <td>39031810</td>\n",
       "      <td>39031810</td>\n",
       "      <td>GCBK</td>\n",
       "      <td>GREAT COUNTRY BK ASONIA CT</td>\n",
       "      <td>NAS</td>\n",
       "    </tr>\n",
       "    <tr>\n",
       "      <th>2</th>\n",
       "      <td>10006</td>\n",
       "      <td>Acf Industries</td>\n",
       "      <td>NaN</td>\n",
       "      <td>000800102</td>\n",
       "      <td>22156</td>\n",
       "      <td>00080010</td>\n",
       "      <td>00080010</td>\n",
       "      <td>ACF</td>\n",
       "      <td>A C F INDUSTRIES INC</td>\n",
       "      <td>NYS</td>\n",
       "    </tr>\n",
       "    <tr>\n",
       "      <th>3</th>\n",
       "      <td>10009</td>\n",
       "      <td>Iroquois Bancorp Inc.</td>\n",
       "      <td>Iroquois Bancorp, Inc. (New York)</td>\n",
       "      <td>463347104</td>\n",
       "      <td>7965</td>\n",
       "      <td>46334710</td>\n",
       "      <td>46334710</td>\n",
       "      <td>IROQ</td>\n",
       "      <td>IROQUOIS BANCORP INC</td>\n",
       "      <td>NAS</td>\n",
       "    </tr>\n",
       "    <tr>\n",
       "      <th>4</th>\n",
       "      <td>10010</td>\n",
       "      <td>Cabot Medical Corporation</td>\n",
       "      <td>Cabot Medical Corp.</td>\n",
       "      <td>127095107</td>\n",
       "      <td>7967</td>\n",
       "      <td>12709510</td>\n",
       "      <td>12709510</td>\n",
       "      <td>CBOT</td>\n",
       "      <td>CABOT MEDICAL CORP</td>\n",
       "      <td>NAS</td>\n",
       "    </tr>\n",
       "    <tr>\n",
       "      <th>...</th>\n",
       "      <td>...</td>\n",
       "      <td>...</td>\n",
       "      <td>...</td>\n",
       "      <td>...</td>\n",
       "      <td>...</td>\n",
       "      <td>...</td>\n",
       "      <td>...</td>\n",
       "      <td>...</td>\n",
       "      <td>...</td>\n",
       "      <td>...</td>\n",
       "    </tr>\n",
       "    <tr>\n",
       "      <th>16293</th>\n",
       "      <td>93428</td>\n",
       "      <td>BroadSoft, Inc.</td>\n",
       "      <td>BroadSoft, Inc.</td>\n",
       "      <td>11133B409</td>\n",
       "      <td>53446</td>\n",
       "      <td>11133B40</td>\n",
       "      <td>11133B40</td>\n",
       "      <td>BSFT</td>\n",
       "      <td>BROADSOFT INC</td>\n",
       "      <td>NAS</td>\n",
       "    </tr>\n",
       "    <tr>\n",
       "      <th>16294</th>\n",
       "      <td>93429</td>\n",
       "      <td>Cboe Global Markets Inc</td>\n",
       "      <td>Cboe Global Markets, Inc.</td>\n",
       "      <td>12503M108</td>\n",
       "      <td>53447</td>\n",
       "      <td>12503M10</td>\n",
       "      <td>12503M10</td>\n",
       "      <td>CBOE</td>\n",
       "      <td>C B O E GLOBAL MARKETS INC</td>\n",
       "      <td>NAS</td>\n",
       "    </tr>\n",
       "    <tr>\n",
       "      <th>16295</th>\n",
       "      <td>93431</td>\n",
       "      <td>Pactera Technology International Ltd. Sponsore...</td>\n",
       "      <td>Pactera Technology International Ltd.</td>\n",
       "      <td>695255109</td>\n",
       "      <td>53449</td>\n",
       "      <td>69525510</td>\n",
       "      <td>69525510</td>\n",
       "      <td>PACT</td>\n",
       "      <td>PACTERA TECHNOLOGY INTL LTD</td>\n",
       "      <td>NAS</td>\n",
       "    </tr>\n",
       "    <tr>\n",
       "      <th>16296</th>\n",
       "      <td>93434</td>\n",
       "      <td>S&amp;W Seed Company</td>\n",
       "      <td>S&amp;W Seed Co.</td>\n",
       "      <td>785135104</td>\n",
       "      <td>53427</td>\n",
       "      <td>78513510</td>\n",
       "      <td>78513510</td>\n",
       "      <td>SANW</td>\n",
       "      <td>S &amp; W SEED CO</td>\n",
       "      <td>NAS</td>\n",
       "    </tr>\n",
       "    <tr>\n",
       "      <th>16297</th>\n",
       "      <td>93436</td>\n",
       "      <td>Tesla Inc</td>\n",
       "      <td>Tesla, Inc.</td>\n",
       "      <td>88160R101</td>\n",
       "      <td>53453</td>\n",
       "      <td>88160R10</td>\n",
       "      <td>88160R10</td>\n",
       "      <td>TSLA</td>\n",
       "      <td>TESLA INC</td>\n",
       "      <td>NAS</td>\n",
       "    </tr>\n",
       "  </tbody>\n",
       "</table>\n",
       "<p>16298 rows × 10 columns</p>\n",
       "</div>"
      ],
      "text/plain": [
       "       PERMNO                                        PROPER_NAME  \\\n",
       "0       10002                     BancTrust Financial Group Inc.   \n",
       "1       10003                         Great Ctry Bank Ansonia Ct   \n",
       "2       10006                                     Acf Industries   \n",
       "3       10009                              Iroquois Bancorp Inc.   \n",
       "4       10010                          Cabot Medical Corporation   \n",
       "...       ...                                                ...   \n",
       "16293   93428                                    BroadSoft, Inc.   \n",
       "16294   93429                            Cboe Global Markets Inc   \n",
       "16295   93431  Pactera Technology International Ltd. Sponsore...   \n",
       "16296   93434                                   S&W Seed Company   \n",
       "16297   93436                                          Tesla Inc   \n",
       "\n",
       "                          ENTITY_PROPER_NAME   CUSIP_FS  PERMCO     CUSIP  \\\n",
       "0            BancTrust Financial Group, Inc.  05978R107    7954  05978R10   \n",
       "1                                        NaN  390318103    7957  39031810   \n",
       "2                                        NaN  000800102   22156  00080010   \n",
       "3          Iroquois Bancorp, Inc. (New York)  463347104    7965  46334710   \n",
       "4                        Cabot Medical Corp.  127095107    7967  12709510   \n",
       "...                                      ...        ...     ...       ...   \n",
       "16293                        BroadSoft, Inc.  11133B409   53446  11133B40   \n",
       "16294              Cboe Global Markets, Inc.  12503M108   53447  12503M10   \n",
       "16295  Pactera Technology International Ltd.  695255109   53449  69525510   \n",
       "16296                           S&W Seed Co.  785135104   53427  78513510   \n",
       "16297                            Tesla, Inc.  88160R101   53453  88160R10   \n",
       "\n",
       "         NCUSIP TICKER                         COMNAM EXCHANGE  \n",
       "0      05978R10   BTFG  BANCTRUST FINANCIAL GROUP INC      NAS  \n",
       "1      39031810   GCBK     GREAT COUNTRY BK ASONIA CT      NAS  \n",
       "2      00080010    ACF           A C F INDUSTRIES INC      NYS  \n",
       "3      46334710   IROQ           IROQUOIS BANCORP INC      NAS  \n",
       "4      12709510   CBOT             CABOT MEDICAL CORP      NAS  \n",
       "...         ...    ...                            ...      ...  \n",
       "16293  11133B40   BSFT                  BROADSOFT INC      NAS  \n",
       "16294  12503M10   CBOE     C B O E GLOBAL MARKETS INC      NAS  \n",
       "16295  69525510   PACT    PACTERA TECHNOLOGY INTL LTD      NAS  \n",
       "16296  78513510   SANW                  S & W SEED CO      NAS  \n",
       "16297  88160R10   TSLA                      TESLA INC      NAS  \n",
       "\n",
       "[16298 rows x 10 columns]"
      ]
     },
     "execution_count": 44,
     "metadata": {},
     "output_type": "execute_result"
    }
   ],
   "source": [
    "# 確保是字串格式\n",
    "latest_permco['TICKER_EXCHANGE'] = latest_permco['TICKER_EXCHANGE'].astype(str)\n",
    "\n",
    "# 拆分欄位\n",
    "latest_permco[['TICKER_SYMBOL', 'EXCHANGE']] = latest_permco['TICKER_EXCHANGE'].str.split('-', expand=True)\n",
    "latest_permco = latest_permco[latest_permco['EXCHANGE'].isin(['NAS', 'NYS'])].reset_index(drop=True)\n",
    "latest_permco.drop(columns=['TICKER_EXCHANGE', 'TICKER_SYMBOL', 'LINK_BDATE',\t'LINK_EDATE'], inplace=True)\n",
    "latest_permco"
   ]
  },
  {
   "cell_type": "code",
   "execution_count": 45,
   "id": "72f30e8a",
   "metadata": {},
   "outputs": [
    {
     "name": "stdout",
     "output_type": "stream",
     "text": [
      "permco_gvkey shape:  (16722, 12)\n"
     ]
    }
   ],
   "source": [
    "permco_gvkey = pd.merge(latest_permco, gvkey[['COMPANYID', 'PERMCO', 'GVKEY']], how='left', on='PERMCO')\n",
    "print(\"permco_gvkey shape: \",permco_gvkey.shape)"
   ]
  },
  {
   "cell_type": "code",
   "execution_count": 46,
   "id": "fe69bd2e",
   "metadata": {},
   "outputs": [
    {
     "name": "stdout",
     "output_type": "stream",
     "text": [
      "permco_gvkey_without_na shape:  (7669, 12)\n"
     ]
    }
   ],
   "source": [
    "permco_gvkey_without_na = permco_gvkey.dropna(subset=['GVKEY'])\n",
    "print(\"permco_gvkey_without_na shape: \",permco_gvkey_without_na.shape)"
   ]
  },
  {
   "cell_type": "code",
   "execution_count": 47,
   "id": "59272ca7",
   "metadata": {},
   "outputs": [],
   "source": [
    "permco_gvkey_without_na.to_csv('/opt/hdd_1/research_hub/csr_project/Green_patent_dataset/original_dataset/permno_cusip_ticker_permco_gvkey_without_na.csv', index=False)"
   ]
  },
  {
   "cell_type": "markdown",
   "id": "318fe064",
   "metadata": {},
   "source": [
    "## Merge green patent count and forward citation"
   ]
  },
  {
   "cell_type": "code",
   "execution_count": null,
   "id": "de349b86",
   "metadata": {},
   "outputs": [],
   "source": [
    "import pandas as pd"
   ]
  },
  {
   "cell_type": "code",
   "execution_count": null,
   "id": "3a463c09",
   "metadata": {},
   "outputs": [],
   "source": [
    "forward = pd.read_csv(\"/opt/hdd_1/research_hub/csr_project/Green_patent_dataset/original_dataset/total_5yr_forward_citations_current.csv\")\n",
    "count = pd.read_csv(\"/opt/hdd_1/research_hub/csr_project/Green_patent_dataset/original_dataset/green_patents_count.csv\")"
   ]
  },
  {
   "cell_type": "code",
   "execution_count": null,
   "id": "515c1c84",
   "metadata": {},
   "outputs": [
    {
     "name": "stdout",
     "output_type": "stream",
     "text": [
      "forward.columns:  Index(['gvkey_numeric', 'filing_year', 'total_5yr_forward_citations',\n",
      "       'within_5_years'],\n",
      "      dtype='object')\n",
      "count.columns:  Index(['gvkey_numeric', 'filing_year', 'patents_count'], dtype='object')\n"
     ]
    }
   ],
   "source": [
    "print(\"forward.columns: \",forward.columns)\n",
    "print(\"count.columns: \",count.columns)"
   ]
  },
  {
   "cell_type": "code",
   "execution_count": null,
   "id": "846f2cbe",
   "metadata": {},
   "outputs": [],
   "source": [
    "forward_count = pd.merge(forward, count, how='left', on=['gvkey_numeric', 'filing_year'])\n",
    "forward_count.to_csv('/opt/hdd_1/research_hub/csr_project/Green_patent_dataset/original_dataset/total_5yr_forward_citations_v2_green_current_count.csv', index=False)"
   ]
  },
  {
   "cell_type": "markdown",
   "id": "a8c2e739",
   "metadata": {},
   "source": [
    "## Merge to get ticker"
   ]
  },
  {
   "cell_type": "code",
   "execution_count": null,
   "id": "772bb763",
   "metadata": {},
   "outputs": [],
   "source": [
    "import pandas as pd"
   ]
  },
  {
   "cell_type": "code",
   "execution_count": null,
   "id": "1b840158",
   "metadata": {},
   "outputs": [],
   "source": [
    "forward_count = pd.read_csv(\"/opt/hdd_1/research_hub/csr_project/Green_patent_dataset/merged_dataset/total_5yr_forward_citations_current_count.csv\")\n",
    "mapping = pd.read_csv(\"/opt/hdd_1/research_hub/csr_project/Green_patent_dataset/merged_dataset/permno_cusip_ticker_permco_gvkey_without_na.csv\")"
   ]
  },
  {
   "cell_type": "code",
   "execution_count": null,
   "id": "6df5ecad",
   "metadata": {},
   "outputs": [
    {
     "name": "stdout",
     "output_type": "stream",
     "text": [
      "Index(['gvkey_numeric', 'filing_year', 'total_5yr_forward_citations',\n",
      "       'within_5_years', 'patents_count'],\n",
      "      dtype='object')\n",
      "Index(['PERMNO', 'FSYM_ID', 'FSYM_ID_KIND', 'PROPER_NAME', 'FSYM_REGIONAL_ID',\n",
      "       'FSYM_SECURITY_ID', 'FS_PERM_SEC_ID', 'FACTSET_ENTITY_ID',\n",
      "       'ENTITY_PROPER_NAME', 'CUSIP_FS', 'TICKER_EXCHANGE', 'PERMCO', 'CUSIP',\n",
      "       'NCUSIP', 'TICKER', 'COMNAM', 'LINK_BDATE', 'LINK_EDATE', 'COMPANYID',\n",
      "       'GVKEY'],\n",
      "      dtype='object')\n"
     ]
    }
   ],
   "source": [
    "print(forward_count.columns)\n",
    "print(mapping.columns)"
   ]
  },
  {
   "cell_type": "code",
   "execution_count": null,
   "id": "ad619331",
   "metadata": {},
   "outputs": [],
   "source": [
    "forward_count_ticker = pd.merge(forward_count, mapping[['GVKEY', 'PERMNO', 'CUSIP', 'TICKER']], how='left', left_on='gvkey_numeric', right_on='GVKEY')"
   ]
  },
  {
   "cell_type": "code",
   "execution_count": null,
   "id": "f40c0aa9",
   "metadata": {},
   "outputs": [],
   "source": [
    "forward_count_ticker_dropna = forward_count_ticker.dropna()\n",
    "forward_count_ticker_dropna.to_csv(\"/opt/hdd_1/research_hub/csr_project/Green_patent_dataset/merged_dataset/total_5yr_forward_citations_current_count_ticker.csv\", index=False)"
   ]
  },
  {
   "cell_type": "code",
   "execution_count": null,
   "id": "87b7c5d9",
   "metadata": {},
   "outputs": [],
   "source": [
    "report_ticker = pd.read_csv(\"/opt/hdd_1/research_hub/csr_project/Green_patent_dataset/company_name/company_name_ticker.csv\")"
   ]
  },
  {
   "cell_type": "code",
   "execution_count": null,
   "id": "5c44a057",
   "metadata": {},
   "outputs": [],
   "source": [
    "forward_count_ticker_dropna = forward_count_ticker_dropna[forward_count_ticker_dropna['TICKER'].isin(report_ticker['ticker'].values)]\n",
    "forward_count_ticker_dropna.to_csv(\"/opt/hdd_1/research_hub/csr_project/Green_patent_dataset/merged_dataset/total_5yr_forward_citations_current_count_ticker_within_report.csv\", index=False)"
   ]
  },
  {
   "cell_type": "markdown",
   "id": "2655253f",
   "metadata": {},
   "source": [
    "# Merge the ticker in mapping to gp_values by permno"
   ]
  },
  {
   "cell_type": "code",
   "execution_count": 2,
   "id": "a09b7fa2",
   "metadata": {},
   "outputs": [],
   "source": [
    "import pandas as pd"
   ]
  },
  {
   "cell_type": "code",
   "execution_count": 3,
   "id": "295e5eec",
   "metadata": {},
   "outputs": [],
   "source": [
    "gp_value = pd.read_csv(\"/opt/hdd_1/research_hub/csr_project/Green_patent_dataset/original_dataset/green_patents_values_filing.csv\")\n",
    "mapping = pd.read_csv(\"/opt/hdd_1/research_hub/csr_project/Green_patent_dataset/merged_dataset/permno_cusip_ticker_permco_gvkey_without_na.csv\")"
   ]
  },
  {
   "cell_type": "code",
   "execution_count": 4,
   "id": "213a1e66",
   "metadata": {},
   "outputs": [
    {
     "name": "stdout",
     "output_type": "stream",
     "text": [
      "Index(['permno', 'year', 'total_values_nominal', 'patents_count_nominal',\n",
      "       'total_values_real', 'patents_count_real', 'value_per_patent_nominal',\n",
      "       'value_per_patent_real'],\n",
      "      dtype='object')\n",
      "Index(['PERMNO', 'PROPER_NAME', 'ENTITY_PROPER_NAME', 'CUSIP_FS', 'PERMCO',\n",
      "       'CUSIP', 'NCUSIP', 'TICKER', 'COMNAM', 'EXCHANGE', 'COMPANYID',\n",
      "       'GVKEY'],\n",
      "      dtype='object')\n"
     ]
    }
   ],
   "source": [
    "print(gp_value.columns)\n",
    "print(mapping.columns)"
   ]
  },
  {
   "cell_type": "code",
   "execution_count": 6,
   "id": "7e1303d0",
   "metadata": {},
   "outputs": [],
   "source": [
    "gp_value_ticker = pd.merge(gp_value, mapping[['GVKEY', 'PERMNO', 'CUSIP', 'TICKER','COMNAM','EXCHANGE']], how='left', left_on='permno', right_on='PERMNO')"
   ]
  },
  {
   "cell_type": "code",
   "execution_count": 16,
   "id": "1afc1492",
   "metadata": {},
   "outputs": [],
   "source": [
    "gp_value_ticker = gp_value_ticker.dropna()\n",
    "gp_value_ticker.drop_duplicates(inplace=True)\n",
    "gp_value_ticker.to_csv(\"/opt/hdd_1/research_hub/csr_project/Green_patent_dataset/merged_dataset/green_patents_values_filing_ticker.csv\", index=False)"
   ]
  }
 ],
 "metadata": {
  "kernelspec": {
   "display_name": "csr_env",
   "language": "python",
   "name": "python3"
  },
  "language_info": {
   "codemirror_mode": {
    "name": "ipython",
    "version": 3
   },
   "file_extension": ".py",
   "mimetype": "text/x-python",
   "name": "python",
   "nbconvert_exporter": "python",
   "pygments_lexer": "ipython3",
   "version": "3.11.4"
  }
 },
 "nbformat": 4,
 "nbformat_minor": 5
}
