{
 "cells": [
  {
   "cell_type": "markdown",
   "id": "e6dbfaf0",
   "metadata": {},
   "source": [
    "# 查看有 CSR 報告的 green patent describe"
   ]
  },
  {
   "cell_type": "code",
   "execution_count": 2,
   "id": "83387de4",
   "metadata": {},
   "outputs": [],
   "source": [
    "import pandas as pd"
   ]
  },
  {
   "cell_type": "code",
   "execution_count": 3,
   "id": "d0fe8873",
   "metadata": {},
   "outputs": [],
   "source": [
    "gp = pd.read_csv(\"../green_innovation_predcition/data/csr_embeddings_leq2019_filled_gp.csv\")"
   ]
  },
  {
   "cell_type": "code",
   "execution_count": 4,
   "id": "76b3cc80",
   "metadata": {},
   "outputs": [
    {
     "name": "stdout",
     "output_type": "stream",
     "text": [
      "Index(['file_name', 'dim_0', 'dim_1', 'dim_2', 'dim_3', 'dim_4', 'dim_5',\n",
      "       'dim_6', 'dim_7', 'dim_8',\n",
      "       ...\n",
      "       'dim_1019', 'dim_1020', 'dim_1021', 'dim_1022', 'dim_1023', 'ticker',\n",
      "       'year', 'total_5yr_forward_citations', 'patents_count',\n",
      "       'total_values_real'],\n",
      "      dtype='object', length=1030)\n"
     ]
    }
   ],
   "source": [
    "print(gp.columns)"
   ]
  },
  {
   "cell_type": "code",
   "execution_count": 11,
   "id": "4dca9437",
   "metadata": {},
   "outputs": [
    {
     "data": {
      "text/plain": [
       "count    1102.000000\n",
       "mean       63.304900\n",
       "std       242.739522\n",
       "min         0.000000\n",
       "25%         0.000000\n",
       "50%         0.000000\n",
       "75%        12.000000\n",
       "max      2880.000000\n",
       "Name: total_5yr_forward_citations, dtype: float64"
      ]
     },
     "execution_count": 11,
     "metadata": {},
     "output_type": "execute_result"
    }
   ],
   "source": [
    "gp['total_5yr_forward_citations'].describe()"
   ]
  },
  {
   "cell_type": "code",
   "execution_count": 10,
   "id": "657789d7",
   "metadata": {},
   "outputs": [
    {
     "data": {
      "text/plain": [
       "count    1102.000000\n",
       "mean        0.406534\n",
       "std         0.491409\n",
       "min         0.000000\n",
       "25%         0.000000\n",
       "50%         0.000000\n",
       "75%         1.000000\n",
       "max         1.000000\n",
       "Name: total_5yr_forward_citations, dtype: float64"
      ]
     },
     "execution_count": 10,
     "metadata": {},
     "output_type": "execute_result"
    }
   ],
   "source": [
    "gp['total_5yr_forward_citations'].describe()\n",
    "log_total_5yr_forward_citations = gp['total_5yr_forward_citations'].apply(lambda x: 0 if x == 0 else 1)\n",
    "log_total_5yr_forward_citations.describe()"
   ]
  },
  {
   "cell_type": "code",
   "execution_count": 13,
   "id": "8af55141",
   "metadata": {},
   "outputs": [
    {
     "data": {
      "text/html": [
       "<div>\n",
       "<style scoped>\n",
       "    .dataframe tbody tr th:only-of-type {\n",
       "        vertical-align: middle;\n",
       "    }\n",
       "\n",
       "    .dataframe tbody tr th {\n",
       "        vertical-align: top;\n",
       "    }\n",
       "\n",
       "    .dataframe thead th {\n",
       "        text-align: right;\n",
       "    }\n",
       "</style>\n",
       "<table border=\"1\" class=\"dataframe\">\n",
       "  <thead>\n",
       "    <tr style=\"text-align: right;\">\n",
       "      <th></th>\n",
       "      <th>file_name</th>\n",
       "      <th>dim_0</th>\n",
       "      <th>dim_1</th>\n",
       "      <th>dim_2</th>\n",
       "      <th>dim_3</th>\n",
       "      <th>dim_4</th>\n",
       "      <th>dim_5</th>\n",
       "      <th>dim_6</th>\n",
       "      <th>dim_7</th>\n",
       "      <th>dim_8</th>\n",
       "      <th>...</th>\n",
       "      <th>dim_1019</th>\n",
       "      <th>dim_1020</th>\n",
       "      <th>dim_1021</th>\n",
       "      <th>dim_1022</th>\n",
       "      <th>dim_1023</th>\n",
       "      <th>ticker</th>\n",
       "      <th>year</th>\n",
       "      <th>total_5yr_forward_citations</th>\n",
       "      <th>patents_count</th>\n",
       "      <th>total_values_real</th>\n",
       "    </tr>\n",
       "  </thead>\n",
       "  <tbody>\n",
       "    <tr>\n",
       "      <th>584</th>\n",
       "      <td>NYSE_F_2017</td>\n",
       "      <td>-0.071867</td>\n",
       "      <td>0.283037</td>\n",
       "      <td>-0.118776</td>\n",
       "      <td>-0.023274</td>\n",
       "      <td>-0.014523</td>\n",
       "      <td>-0.017348</td>\n",
       "      <td>-0.016214</td>\n",
       "      <td>-0.078858</td>\n",
       "      <td>0.163837</td>\n",
       "      <td>...</td>\n",
       "      <td>-0.105201</td>\n",
       "      <td>-0.306458</td>\n",
       "      <td>-0.097586</td>\n",
       "      <td>-0.098731</td>\n",
       "      <td>0.09811</td>\n",
       "      <td>F</td>\n",
       "      <td>2017</td>\n",
       "      <td>1750.0</td>\n",
       "      <td>380.0</td>\n",
       "      <td>548.207335</td>\n",
       "    </tr>\n",
       "  </tbody>\n",
       "</table>\n",
       "<p>1 rows × 1030 columns</p>\n",
       "</div>"
      ],
      "text/plain": [
       "       file_name     dim_0     dim_1     dim_2     dim_3     dim_4     dim_5  \\\n",
       "584  NYSE_F_2017 -0.071867  0.283037 -0.118776 -0.023274 -0.014523 -0.017348   \n",
       "\n",
       "        dim_6     dim_7     dim_8  ...  dim_1019  dim_1020  dim_1021  \\\n",
       "584 -0.016214 -0.078858  0.163837  ... -0.105201 -0.306458 -0.097586   \n",
       "\n",
       "     dim_1022  dim_1023  ticker  year  total_5yr_forward_citations  \\\n",
       "584 -0.098731   0.09811       F  2017                       1750.0   \n",
       "\n",
       "     patents_count  total_values_real  \n",
       "584          380.0         548.207335  \n",
       "\n",
       "[1 rows x 1030 columns]"
      ]
     },
     "execution_count": 13,
     "metadata": {},
     "output_type": "execute_result"
    }
   ],
   "source": [
    "gp['patents_count'].describe()\n",
    "gp[gp['patents_count'] == 380]\n"
   ]
  },
  {
   "cell_type": "code",
   "execution_count": 8,
   "id": "78161b3c",
   "metadata": {},
   "outputs": [
    {
     "name": "stdout",
     "output_type": "stream",
     "text": [
      "count    1102.000000\n",
      "mean        0.437387\n",
      "std         0.496289\n",
      "min         0.000000\n",
      "25%         0.000000\n",
      "50%         0.000000\n",
      "75%         1.000000\n",
      "max         1.000000\n",
      "Name: patents_count, dtype: float64\n"
     ]
    }
   ],
   "source": [
    "gp['patents_count'].describe()\n",
    "log_patents_count = gp['patents_count'].apply(lambda x: 0 if x == 0 else 1)\n",
    "print(log_patents_count.describe())"
   ]
  },
  {
   "cell_type": "code",
   "execution_count": 7,
   "id": "50f2a888",
   "metadata": {},
   "outputs": [
    {
     "name": "stdout",
     "output_type": "stream",
     "text": [
      "count    1102.000000\n",
      "mean        2.071705\n",
      "std         2.582896\n",
      "min         0.000000\n",
      "25%         0.000000\n",
      "50%         0.000000\n",
      "75%         4.463122\n",
      "max         8.795946\n",
      "Name: total_values_real, dtype: float64\n"
     ]
    }
   ],
   "source": [
    "import numpy as np\n",
    "\n",
    "# 加 1 是為了避免 log(0) 發生錯誤\n",
    "log_values = np.log(gp['total_values_real'] + 1)\n",
    "\n",
    "print(log_values.describe())"
   ]
  },
  {
   "cell_type": "code",
   "execution_count": null,
   "id": "42b3d682",
   "metadata": {},
   "outputs": [],
   "source": []
  }
 ],
 "metadata": {
  "kernelspec": {
   "display_name": "csr_env",
   "language": "python",
   "name": "csr_env"
  },
  "language_info": {
   "codemirror_mode": {
    "name": "ipython",
    "version": 3
   },
   "file_extension": ".py",
   "mimetype": "text/x-python",
   "name": "python",
   "nbconvert_exporter": "python",
   "pygments_lexer": "ipython3",
   "version": "3.10.16"
  }
 },
 "nbformat": 4,
 "nbformat_minor": 5
}
