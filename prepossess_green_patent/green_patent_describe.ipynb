{
 "cells": [
  {
   "cell_type": "code",
   "execution_count": 11,
   "id": "83387de4",
   "metadata": {},
   "outputs": [],
   "source": [
    "import pandas as pd"
   ]
  },
  {
   "cell_type": "code",
   "execution_count": 12,
   "id": "d0fe8873",
   "metadata": {},
   "outputs": [],
   "source": [
    "gp_count_forward = pd.read_csv(\"/opt/hdd_1/research_hub/csr_project/Green_patent_dataset/merged_dataset/total_5yr_forward_citations_current_count_ticker_within_report.csv\")\n",
    "gp_value = pd.read_csv(\"/opt/hdd_1/research_hub/csr_project/Green_patent_dataset/merged_dataset/green_patent_values_best_match_within_report.csv\")"
   ]
  },
  {
   "cell_type": "code",
   "execution_count": 13,
   "id": "76b3cc80",
   "metadata": {},
   "outputs": [
    {
     "name": "stdout",
     "output_type": "stream",
     "text": [
      "Index(['gvkey_numeric', 'filing_year', 'total_5yr_forward_citations',\n",
      "       'within_5_years', 'patents_count', 'GVKEY', 'PERMNO', 'CUSIP',\n",
      "       'TICKER'],\n",
      "      dtype='object')\n",
      "Index(['permno', 'year', 'total_values_nominal', 'patents_count_nominal',\n",
      "       'total_values_real', 'patents_count_real', 'value_per_patent_nominal',\n",
      "       'value_per_patent_real', 'PERMNO', 'TICKER', 'COMNAM', 'ticker',\n",
      "       'COMPANY'],\n",
      "      dtype='object')\n"
     ]
    }
   ],
   "source": [
    "print(gp_count_forward.columns)\n",
    "print(gp_value.columns)"
   ]
  },
  {
   "cell_type": "code",
   "execution_count": 22,
   "id": "657789d7",
   "metadata": {},
   "outputs": [
    {
     "data": {
      "text/plain": [
       "count    27465.000000\n",
       "mean        86.048425\n",
       "std        286.533155\n",
       "min          0.000000\n",
       "25%          2.000000\n",
       "50%         10.000000\n",
       "75%         48.000000\n",
       "max       3751.000000\n",
       "Name: total_5yr_forward_citations, dtype: float64"
      ]
     },
     "execution_count": 22,
     "metadata": {},
     "output_type": "execute_result"
    }
   ],
   "source": [
    "gp_count_forward['total_5yr_forward_citations'].describe()"
   ]
  },
  {
   "cell_type": "code",
   "execution_count": 14,
   "id": "1211ffb9",
   "metadata": {},
   "outputs": [
    {
     "data": {
      "text/plain": [
       "count    27465.000000\n",
       "mean         8.783761\n",
       "std         33.190564\n",
       "min          0.000000\n",
       "25%          1.000000\n",
       "50%          2.000000\n",
       "75%          5.000000\n",
       "max        446.000000\n",
       "Name: within_5_years, dtype: float64"
      ]
     },
     "execution_count": 14,
     "metadata": {},
     "output_type": "execute_result"
    }
   ],
   "source": [
    "gp_count_forward['within_5_years'].describe()"
   ]
  },
  {
   "cell_type": "code",
   "execution_count": 15,
   "id": "78161b3c",
   "metadata": {},
   "outputs": [
    {
     "data": {
      "text/plain": [
       "count    27465.000000\n",
       "mean         9.623521\n",
       "std         34.493273\n",
       "min          1.000000\n",
       "25%          1.000000\n",
       "50%          2.000000\n",
       "75%          5.000000\n",
       "max        470.000000\n",
       "Name: patents_count, dtype: float64"
      ]
     },
     "execution_count": 15,
     "metadata": {},
     "output_type": "execute_result"
    }
   ],
   "source": [
    "gp_count_forward['patents_count'].describe()"
   ]
  },
  {
   "cell_type": "code",
   "execution_count": 16,
   "id": "cf6a8d8f",
   "metadata": {},
   "outputs": [
    {
     "name": "stdout",
     "output_type": "stream",
     "text": [
      "count     8082.000000\n",
      "mean       320.930561\n",
      "std       1217.087021\n",
      "min          0.008379\n",
      "25%          6.567666\n",
      "50%         33.447178\n",
      "75%        158.487472\n",
      "max      26099.487542\n",
      "Name: total_values_nominal, dtype: float64\n"
     ]
    }
   ],
   "source": [
    "# print these columns descrice total_values_nominal, patents_count_nominal,     total_values_real, patents_count_real, value_per_patent_nominal, value_per_patent_real\n",
    "print(gp_value['total_values_nominal'].describe())"
   ]
  },
  {
   "cell_type": "code",
   "execution_count": 17,
   "id": "f3c6b642",
   "metadata": {},
   "outputs": [
    {
     "name": "stdout",
     "output_type": "stream",
     "text": [
      "count    8082.000000\n",
      "mean       11.878372\n",
      "std        38.917161\n",
      "min         1.000000\n",
      "25%         1.000000\n",
      "50%         2.000000\n",
      "75%         7.000000\n",
      "max       694.000000\n",
      "Name: patents_count_nominal, dtype: float64\n"
     ]
    }
   ],
   "source": [
    "print(gp_value['patents_count_nominal'].describe())"
   ]
  },
  {
   "cell_type": "code",
   "execution_count": 18,
   "id": "50f2a888",
   "metadata": {},
   "outputs": [
    {
     "name": "stdout",
     "output_type": "stream",
     "text": [
      "count     8082.000000\n",
      "mean       150.302159\n",
      "std        562.685983\n",
      "min          0.004521\n",
      "25%          5.595724\n",
      "50%         20.014761\n",
      "75%         82.462518\n",
      "max      12439.599257\n",
      "Name: total_values_real, dtype: float64\n"
     ]
    }
   ],
   "source": [
    "print(gp_value['total_values_real'].describe())"
   ]
  },
  {
   "cell_type": "code",
   "execution_count": 19,
   "id": "4cc540c6",
   "metadata": {},
   "outputs": [
    {
     "name": "stdout",
     "output_type": "stream",
     "text": [
      "count    8082.000000\n",
      "mean       11.878372\n",
      "std        38.917161\n",
      "min         1.000000\n",
      "25%         1.000000\n",
      "50%         2.000000\n",
      "75%         7.000000\n",
      "max       694.000000\n",
      "Name: patents_count_real, dtype: float64\n"
     ]
    }
   ],
   "source": [
    "print(gp_value['patents_count_real'].describe())"
   ]
  },
  {
   "cell_type": "code",
   "execution_count": 20,
   "id": "84a0bc9f",
   "metadata": {},
   "outputs": [
    {
     "name": "stdout",
     "output_type": "stream",
     "text": [
      "count    8082.000000\n",
      "mean       41.152399\n",
      "std       121.836109\n",
      "min         0.008379\n",
      "25%         3.240560\n",
      "50%        11.217863\n",
      "75%        32.909034\n",
      "max      4450.995753\n",
      "Name: value_per_patent_nominal, dtype: float64\n"
     ]
    }
   ],
   "source": [
    "print(gp_value['value_per_patent_nominal'].describe())"
   ]
  },
  {
   "cell_type": "code",
   "execution_count": 21,
   "id": "c3302e4b",
   "metadata": {},
   "outputs": [
    {
     "name": "stdout",
     "output_type": "stream",
     "text": [
      "count    8082.000000\n",
      "mean       19.380420\n",
      "std        53.971467\n",
      "min         0.004521\n",
      "25%         2.763946\n",
      "50%         6.948044\n",
      "75%        16.647849\n",
      "max      2496.650492\n",
      "Name: value_per_patent_real, dtype: float64\n"
     ]
    }
   ],
   "source": [
    "print(gp_value['value_per_patent_real'].describe())"
   ]
  }
 ],
 "metadata": {
  "kernelspec": {
   "display_name": "csr_env",
   "language": "python",
   "name": "python3"
  },
  "language_info": {
   "codemirror_mode": {
    "name": "ipython",
    "version": 3
   },
   "file_extension": ".py",
   "mimetype": "text/x-python",
   "name": "python",
   "nbconvert_exporter": "python",
   "pygments_lexer": "ipython3",
   "version": "3.11.4"
  }
 },
 "nbformat": 4,
 "nbformat_minor": 5
}
