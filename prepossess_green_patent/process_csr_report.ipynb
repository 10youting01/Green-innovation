{
 "cells": [
  {
   "cell_type": "markdown",
   "id": "4b819cab",
   "metadata": {},
   "source": [
    "# Delete report with year2 (overlapping)"
   ]
  },
  {
   "cell_type": "code",
   "execution_count": 48,
   "id": "d95b15b7",
   "metadata": {},
   "outputs": [],
   "source": [
    "import pandas as pd"
   ]
  },
  {
   "cell_type": "code",
   "execution_count": 49,
   "id": "8eb356e0",
   "metadata": {},
   "outputs": [],
   "source": [
    "report_all = pd.read_csv(\"/opt/hdd_1/research_hub/csr_project/CSR Reporting/Dataset/report_all.csv\")"
   ]
  },
  {
   "cell_type": "code",
   "execution_count": 50,
   "id": "0b92d0c7",
   "metadata": {},
   "outputs": [
    {
     "name": "stderr",
     "output_type": "stream",
     "text": [
      "/tmp/ipykernel_1028577/2918103659.py:2: SettingWithCopyWarning: \n",
      "A value is trying to be set on a copy of a slice from a DataFrame\n",
      "\n",
      "See the caveats in the documentation: https://pandas.pydata.org/pandas-docs/stable/user_guide/indexing.html#returning-a-view-versus-a-copy\n",
      "  report_all_without_overlap.drop(columns=['year2'], inplace=True)\n"
     ]
    }
   ],
   "source": [
    "report_all_without_overlap = report_all[report_all['year2'].isna()]\n",
    "report_all_without_overlap.drop(columns=['year2'], inplace=True)\n",
    "report_all_without_overlap.to_csv(\"/opt/hdd_1/research_hub/csr_project/CSR Reporting/Dataset/report_all_without_overlap.csv\", index=False)"
   ]
  },
  {
   "cell_type": "markdown",
   "id": "e7066522",
   "metadata": {},
   "source": [
    "# Filing csr report"
   ]
  },
  {
   "cell_type": "code",
   "execution_count": 2,
   "id": "26f7ebfe",
   "metadata": {},
   "outputs": [],
   "source": [
    "import pandas as pd"
   ]
  },
  {
   "cell_type": "code",
   "execution_count": null,
   "id": "efceb121",
   "metadata": {},
   "outputs": [],
   "source": []
  },
  {
   "cell_type": "code",
   "execution_count": null,
   "id": "02b1819a",
   "metadata": {},
   "outputs": [],
   "source": []
  }
 ],
 "metadata": {
  "kernelspec": {
   "display_name": "csr_env",
   "language": "python",
   "name": "python3"
  },
  "language_info": {
   "codemirror_mode": {
    "name": "ipython",
    "version": 3
   },
   "file_extension": ".py",
   "mimetype": "text/x-python",
   "name": "python",
   "nbconvert_exporter": "python",
   "pygments_lexer": "ipython3",
   "version": "3.11.4"
  }
 },
 "nbformat": 4,
 "nbformat_minor": 5
}
